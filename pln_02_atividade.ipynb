{
 "cells": [
  {
   "cell_type": "code",
   "execution_count": 91,
   "metadata": {
    "id": "iVHhtFp41yL5"
   },
   "outputs": [],
   "source": [
    "import datasets\n",
    "from sklearn.feature_extraction.text import TfidfVectorizer\n",
    "from tensorflow import keras\n",
    "from sklearn.metrics import classification_report\n",
    "from sklearn.preprocessing import StandardScaler, OneHotEncoder\n",
    "import pandas as pd\n",
    "from sentence_transformers import SentenceTransformer\n",
    "import numpy as np\n",
    "from matplotlib import pyplot as plt\n",
    "from sklearn.metrics import confusion_matrix, classification_report\n",
    "from sklearn.model_selection import KFold\n",
    "from sklearn.feature_extraction.text import TfidfVectorizer, CountVectorizer\n",
    "import nltk\n",
    "import seaborn as sns\n",
    "import re\n",
    "from imblearn.under_sampling import RandomUnderSampler\n",
    "from nltk.corpus import wordnet\n",
    "import random\n",
    "\n",
    "sns.set_style('whitegrid')"
   ]
  },
  {
   "cell_type": "code",
   "execution_count": 92,
   "metadata": {
    "colab": {
     "base_uri": "https://localhost:8080/"
    },
    "id": "IHvYeYpy41xI",
    "outputId": "7b7e192f-4d1c-4c01-b2d7-9b8c17c6e5e2"
   },
   "outputs": [
    {
     "name": "stderr",
     "output_type": "stream",
     "text": [
      "[nltk_data] Downloading package stopwords to\n",
      "[nltk_data]     C:\\Users\\Dayvison\\AppData\\Roaming\\nltk_data...\n",
      "[nltk_data]   Package stopwords is already up-to-date!\n",
      "[nltk_data] Downloading package wordnet to\n",
      "[nltk_data]     C:\\Users\\Dayvison\\AppData\\Roaming\\nltk_data...\n",
      "[nltk_data]   Package wordnet is already up-to-date!\n"
     ]
    },
    {
     "data": {
      "text/plain": [
       "True"
      ]
     },
     "execution_count": 92,
     "metadata": {},
     "output_type": "execute_result"
    }
   ],
   "source": [
    "nltk.download('stopwords')\n",
    "nltk.download('wordnet')"
   ]
  },
  {
   "cell_type": "code",
   "execution_count": 93,
   "metadata": {
    "colab": {
     "base_uri": "https://localhost:8080/",
     "height": 85,
     "referenced_widgets": [
      "fe128e9d87c74a4aaa93dad38fc62bd6",
      "3dfaaff783134b58a4ebf693626e0078",
      "3af71ed9e98b43259d028cbf3419581a",
      "536a1f1db24a4f469502ae4e4d7fb402",
      "83dbb782a6eb474c875d3dd129914c98",
      "4a5d4cb8afeb4243b7c0ae141a8584b1",
      "f05717af13d7406199bb67ae02ca7d03",
      "1c88aad67aed433c899e6c826f8125d5",
      "a7f2cb1a79174247b7be6fa5dafd3568",
      "f30df343a01743a08d5e7993e2ccb1ee",
      "4abc41eea9fc4a78807f37eb895c4542"
     ]
    },
    "id": "nftwzt8S3xJI",
    "outputId": "edadd387-5b0e-4401-9685-9fd3955616ec"
   },
   "outputs": [
    {
     "name": "stderr",
     "output_type": "stream",
     "text": [
      "Using custom data configuration okite97--news-data-40e98cfd881f0955\n",
      "Found cached dataset csv (C:/Users/Dayvison/.cache/huggingface/datasets/okite97___csv/okite97--news-data-40e98cfd881f0955/0.0.0/652c3096f041ee27b04d2232d41f10547a8fecda3e284a79a0ec4053c916ef7a)\n"
     ]
    },
    {
     "data": {
      "application/vnd.jupyter.widget-view+json": {
       "model_id": "cce8686ba3b34ee7be4e4a1f545c5d32",
       "version_major": 2,
       "version_minor": 0
      },
      "text/plain": [
       "  0%|          | 0/2 [00:00<?, ?it/s]"
      ]
     },
     "metadata": {},
     "output_type": "display_data"
    }
   ],
   "source": [
    "dataset = datasets.load_dataset(\"okite97/news-data\")"
   ]
  },
  {
   "cell_type": "code",
   "execution_count": 94,
   "metadata": {
    "id": "xapke24K1-m5"
   },
   "outputs": [],
   "source": [
    "train = dataset['train'].to_pandas()\n",
    "test = dataset['test'].to_pandas()"
   ]
  },
  {
   "cell_type": "code",
   "execution_count": 95,
   "metadata": {
    "colab": {
     "base_uri": "https://localhost:8080/"
    },
    "id": "wFfeNMge6OV6",
    "outputId": "f6648230-cd2d-4f3f-e5d3-24d7410ad4f9"
   },
   "outputs": [
    {
     "data": {
      "text/plain": [
       "Title       1\n",
       "Excerpt     0\n",
       "Category    0\n",
       "dtype: int64"
      ]
     },
     "execution_count": 95,
     "metadata": {},
     "output_type": "execute_result"
    }
   ],
   "source": [
    "train.isnull().sum()"
   ]
  },
  {
   "cell_type": "code",
   "execution_count": 96,
   "metadata": {
    "colab": {
     "base_uri": "https://localhost:8080/"
    },
    "id": "WDrUBDyb6m6y",
    "outputId": "7b04d52d-bb5f-43b7-8886-00b2bba2363f"
   },
   "outputs": [
    {
     "data": {
      "text/plain": [
       "Title       0\n",
       "Excerpt     0\n",
       "Category    0\n",
       "dtype: int64"
      ]
     },
     "execution_count": 96,
     "metadata": {},
     "output_type": "execute_result"
    }
   ],
   "source": [
    "test.isnull().sum()"
   ]
  },
  {
   "cell_type": "code",
   "execution_count": 97,
   "metadata": {
    "id": "p_jsonr96q8y"
   },
   "outputs": [],
   "source": [
    "train = train.dropna(subset=['Title']).reset_index()"
   ]
  },
  {
   "cell_type": "code",
   "execution_count": 98,
   "metadata": {
    "id": "Y1aZAZSSTDcM"
   },
   "outputs": [],
   "source": [
    "stop_words = nltk.corpus.stopwords.words('english')"
   ]
  },
  {
   "cell_type": "code",
   "execution_count": 99,
   "metadata": {
    "id": "cYAiI_hoWF4s"
   },
   "outputs": [],
   "source": [
    "def get_only_chars(line):\n",
    "\n",
    "    clean_line = \"\"\n",
    "\n",
    "    line = line.replace(\"’\", \"\")\n",
    "    line = line.replace(\"'\", \"\")\n",
    "    line = line.replace(\"-\", \" \") \n",
    "    line = line.replace(\"\\t\", \" \")\n",
    "    line = line.replace(\"\\n\", \" \")\n",
    "    line = line.lower()\n",
    "\n",
    "    for char in line:\n",
    "        if char in 'qwertyuiopasdfghjklzxcvbnm ':\n",
    "            clean_line += char\n",
    "        else:\n",
    "            clean_line += ' '\n",
    "\n",
    "    clean_line = re.sub(' +',' ',clean_line)\n",
    "    \n",
    "    if clean_line[0] == ' ':\n",
    "        clean_line = clean_line[1:]\n",
    "\n",
    "    return clean_line"
   ]
  },
  {
   "cell_type": "code",
   "execution_count": 100,
   "metadata": {
    "id": "x2kZKSE9dT-P"
   },
   "outputs": [],
   "source": [
    "def get_vocab(corpus):\n",
    "    vocab = []\n",
    "    \n",
    "    for frase in corpus:\n",
    "        words = frase.split()\n",
    "        \n",
    "        for word in words:\n",
    "            vocab.append(word)\n",
    "  \n",
    "    return vocab"
   ]
  },
  {
   "cell_type": "code",
   "execution_count": 101,
   "metadata": {
    "id": "NhPK2fgkSLa0"
   },
   "outputs": [],
   "source": [
    "train['Joined'] = train['Title'].str.cat(train['Excerpt'], sep =\" \")\n",
    "test['Joined'] = test['Title'].str.cat(test['Excerpt'], sep =\" \")\n",
    "\n",
    "train['Joined'] = train['Joined'].apply(lambda x: get_only_chars(x))\n",
    "test['Joined'] = test['Joined'].apply(lambda x: get_only_chars(x))\n",
    "\n",
    "train['Joined'] = train['Joined'].apply(lambda x: \" \".join([y for y in x.split() if y not in stop_words]  ))\n",
    "test['Joined'] = test['Joined'].apply(lambda x: \" \".join([y for y in x.split() if y not in stop_words] ) )\n",
    "    \n",
    "\n",
    "train['Excerpt'] = train['Excerpt'].apply(lambda x: get_only_chars(x))\n",
    "test['Excerpt'] = test['Excerpt'].apply(lambda x: get_only_chars(x))\n",
    "\n",
    "train['Excerpt'] = train['Excerpt'].apply(lambda x: \" \".join([y for y in x.split() if y not in stop_words]  ))\n",
    "test['Excerpt'] = test['Excerpt'].apply(lambda x: \" \".join([y for y in x.split() if y not in stop_words] ) )"
   ]
  },
  {
   "cell_type": "code",
   "execution_count": 102,
   "metadata": {
    "colab": {
     "base_uri": "https://localhost:8080/",
     "height": 406
    },
    "id": "EfHYYh5Q2WZn",
    "outputId": "da7d9c96-7d72-45e2-e684-fa01f35465c3"
   },
   "outputs": [
    {
     "data": {
      "text/plain": [
       "<AxesSubplot:xlabel='Category', ylabel='count'>"
      ]
     },
     "execution_count": 102,
     "metadata": {},
     "output_type": "execute_result"
    },
    {
     "data": {
      "image/png": "[encoded data removed]",
      "text/plain": [
       "<Figure size 720x432 with 1 Axes>"
      ]
     },
     "metadata": {},
     "output_type": "display_data"
    }
   ],
   "source": [
    "plt.figure(figsize=(10,6))\n",
    "sns.countplot(x='Category', data=train, order=train['Category'].value_counts(ascending=True).index)"
   ]
  },
  {
   "cell_type": "code",
   "execution_count": 103,
   "metadata": {
    "id": "FifgWaVYNDsz"
   },
   "outputs": [],
   "source": [
    "class_names = ['business', 'entertainment', 'health', 'politics','sports', 'tech']"
   ]
  },
  {
   "cell_type": "code",
   "execution_count": 104,
   "metadata": {
    "id": "HIvBwy8zezef"
   },
   "outputs": [],
   "source": [
    "one = OneHotEncoder(sparse=False)\n",
    "y_train = one.fit_transform(train['Category'].values.reshape(-1,1))\n",
    "y_test = one.transform(test['Category'].values.reshape(-1,1))"
   ]
  },
  {
   "cell_type": "code",
   "execution_count": 105,
   "metadata": {
    "colab": {
     "base_uri": "https://localhost:8080/"
    },
    "id": "Hn3g5lgpg_QY",
    "outputId": "bea59b36-b8ec-476b-c748-838c5b3a2211"
   },
   "outputs": [
    {
     "data": {
      "text/plain": [
       "(4685, 6)"
      ]
     },
     "execution_count": 105,
     "metadata": {},
     "output_type": "execute_result"
    }
   ],
   "source": [
    "y_train.shape"
   ]
  },
  {
   "cell_type": "code",
   "execution_count": 106,
   "metadata": {
    "colab": {
     "base_uri": "https://localhost:8080/"
    },
    "id": "ciAfrMtDhqIA",
    "outputId": "ffb8d762-9cba-48e3-f5ef-3bdb124d61be"
   },
   "outputs": [
    {
     "data": {
      "text/plain": [
       "(828, 6)"
      ]
     },
     "execution_count": 106,
     "metadata": {},
     "output_type": "execute_result"
    }
   ],
   "source": [
    "y_test.shape"
   ]
  },
  {
   "cell_type": "code",
   "execution_count": 107,
   "metadata": {
    "colab": {
     "base_uri": "https://localhost:8080/"
    },
    "id": "hQR9WggGiH2g",
    "outputId": "40055e03-ecaf-4a0b-97df-4c8fca3203e9"
   },
   "outputs": [
    {
     "data": {
      "text/plain": [
       "85"
      ]
     },
     "execution_count": 107,
     "metadata": {},
     "output_type": "execute_result"
    }
   ],
   "source": [
    "len(max(train['Excerpt']))"
   ]
  },
  {
   "cell_type": "code",
   "execution_count": 108,
   "metadata": {
    "id": "uYLcvb9IeUnX"
   },
   "outputs": [],
   "source": [
    "def nn_with_embs(column='Excerpt', epochs=10, batch_size=16, h=0.01):\n",
    "    \n",
    "    vectorize_layer = keras.layers.TextVectorization(max_tokens=15000, output_mode='int', output_sequence_length=len(max(train[column])))\n",
    "    vocab = get_vocab(train[column])\n",
    "    vectorize_layer.adapt(np.unique(vocab)) \n",
    "\n",
    "    model = keras.models.Sequential([\n",
    "        vectorize_layer,\n",
    "        keras.layers.Embedding(input_dim=len(vectorize_layer.get_vocabulary()), output_dim=32, mask_zero=True),\n",
    "    # keras.layers.Flatten(),\n",
    "\n",
    "        keras.layers.LSTM(16, activation='relu',kernel_regularizer=keras.regularizers.L2(h), return_sequences=True),\n",
    "        keras.layers.LSTM(8, activation='relu', kernel_regularizer=keras.regularizers.L2(h)),\n",
    "    \n",
    "        keras.layers.Dense(y_train.shape[1], activation='softmax')\n",
    "    ])\n",
    "  \n",
    "    model.compile(loss=\"categorical_crossentropy\", optimizer='adam', metrics=['accuracy'])\n",
    "\n",
    "    model.summary()\n",
    "\n",
    "    history = model.fit(train[column], y_train, epochs=epochs, batch_size=batch_size, validation_data=(test[column], y_test))\n",
    "  \n",
    "    print(\" \")\n",
    "    print(classification_report(np.argmax(y_test, axis=1), np.argmax(model.predict(test[column]), axis=1) ,  target_names=class_names))\n",
    "    print(\" \")\n",
    "\n",
    "    plt.figure(figsize=(12,6))\n",
    "    plt.title('Loss and Acc')\n",
    "    plt.plot(history.history['loss'], color='darkred', label='Loss')\n",
    "    plt.plot(history.history['val_loss'], color='green', label='Val_Loss')\n",
    "    plt.legend()"
   ]
  },
  {
   "cell_type": "code",
   "execution_count": 109,
   "metadata": {
    "id": "fxIJXOIAK7Rq"
   },
   "outputs": [],
   "source": [
    "def nn_vectorizer(vectorizer=CountVectorizer, column='Excerpt' ,embeddings=False, epochs=10, batch_size=16, h=0.01):\n",
    "    \n",
    "    if embeddings:\n",
    "        nn_with_embs(column, epochs, batch_size, h)\n",
    "   \n",
    "    else:\n",
    "        vect = vectorizer()\n",
    "        text_train = vect.fit_transform(train[column]).todense()\n",
    "        text_test = vect.transform(test[column]).todense()\n",
    "\n",
    "        model = keras.models.Sequential([\n",
    "          keras.layers.Dense(64, activation='relu', input_shape=(text_train.shape[1],),kernel_regularizer=keras.regularizers.L2(h)),\n",
    "          keras.layers.Dropout(0.1),\n",
    "\n",
    "          keras.layers.Dense(16, activation='relu', kernel_regularizer=keras.regularizers.L2(h)),\n",
    "\n",
    "          keras.layers.Dense(y_train.shape[1], activation='softmax')\n",
    "\n",
    "        ])\n",
    "\n",
    "        model.compile(loss=\"categorical_crossentropy\", optimizer='adam', metrics=['accuracy'])\n",
    "\n",
    "        history = model.fit(text_train, y_train, epochs=epochs, batch_size=batch_size, validation_data=(text_test, y_test))\n",
    "\n",
    "        print(\" \")\n",
    "        print(classification_report(np.argmax(y_test, axis=1), np.argmax(model.predict(text_test), axis=1) ,  target_names=class_names))\n",
    "        print(\" \")\n",
    "\n",
    "        plt.figure(figsize=(12,6))\n",
    "        plt.title('Loss and Acc')\n",
    "        plt.plot(history.history['loss'], color='darkred', label='Loss')\n",
    "        plt.plot(history.history['val_loss'], color='green', label='Val_Loss')\n",
    "        plt.legend()"
   ]
  },
  {
   "cell_type": "markdown",
   "metadata": {
    "id": "3Jz7q7HWKRXa"
   },
   "source": [
    "### Utilizando o Bow"
   ]
  },
  {
   "cell_type": "code",
   "execution_count": 24,
   "metadata": {
    "colab": {
     "base_uri": "https://localhost:8080/",
     "height": 1000
    },
    "id": "6AnLWDoYNSYa",
    "outputId": "b1edcc07-5b37-41e9-b30c-cc47cea9c580"
   },
   "outputs": [
    {
     "name": "stdout",
     "output_type": "stream",
     "text": [
      "Epoch 1/10\n",
      "293/293 [==============================] - 4s 4ms/step - loss: 1.4873 - accuracy: 0.6604 - val_loss: 1.1915 - val_accuracy: 0.7693\n",
      "Epoch 2/10\n",
      "293/293 [==============================] - 1s 3ms/step - loss: 1.1258 - accuracy: 0.8045 - val_loss: 1.1360 - val_accuracy: 0.8140\n",
      "Epoch 3/10\n",
      "293/293 [==============================] - 1s 3ms/step - loss: 1.0568 - accuracy: 0.8318 - val_loss: 1.1137 - val_accuracy: 0.8213\n",
      "Epoch 4/10\n",
      "293/293 [==============================] - 1s 3ms/step - loss: 1.0154 - accuracy: 0.8406 - val_loss: 1.0986 - val_accuracy: 0.8249\n",
      "Epoch 5/10\n",
      "293/293 [==============================] - 1s 3ms/step - loss: 0.9823 - accuracy: 0.8480 - val_loss: 1.0742 - val_accuracy: 0.8309\n",
      "Epoch 6/10\n",
      "293/293 [==============================] - 1s 3ms/step - loss: 0.9557 - accuracy: 0.8536 - val_loss: 1.0628 - val_accuracy: 0.8237\n",
      "Epoch 7/10\n",
      "293/293 [==============================] - 1s 3ms/step - loss: 0.9304 - accuracy: 0.8591 - val_loss: 1.0409 - val_accuracy: 0.8309\n",
      "Epoch 8/10\n",
      "293/293 [==============================] - 1s 3ms/step - loss: 0.9090 - accuracy: 0.8630 - val_loss: 1.0601 - val_accuracy: 0.8225\n",
      "Epoch 9/10\n",
      "293/293 [==============================] - 1s 3ms/step - loss: 0.8915 - accuracy: 0.8741 - val_loss: 1.0384 - val_accuracy: 0.8273\n",
      "Epoch 10/10\n",
      "293/293 [==============================] - 1s 3ms/step - loss: 0.8669 - accuracy: 0.8734 - val_loss: 1.0113 - val_accuracy: 0.8357\n",
      " \n",
      "               precision    recall  f1-score   support\n",
      "\n",
      "     business       0.72      0.91      0.80       224\n",
      "entertainment       0.89      0.76      0.82        67\n",
      "       health       0.90      0.74      0.81        97\n",
      "     politics       0.87      0.89      0.88       190\n",
      "       sports       0.95      0.95      0.95       199\n",
      "         tech       0.60      0.12      0.20        51\n",
      "\n",
      "     accuracy                           0.84       828\n",
      "    macro avg       0.82      0.73      0.74       828\n",
      " weighted avg       0.83      0.84      0.82       828\n",
      "\n",
      " \n"
     ]
    },
    {
     "data": {
      "image/png": "[encoded data removed]",
      "text/plain": [
       "<Figure size 864x432 with 1 Axes>"
      ]
     },
     "metadata": {},
     "output_type": "display_data"
    }
   ],
   "source": [
    "nn_vectorizer(CountVectorizer)"
   ]
  },
  {
   "cell_type": "markdown",
   "metadata": {
    "id": "uVHM7hsxKsDy"
   },
   "source": [
    "### Utilizando o Tfidf"
   ]
  },
  {
   "cell_type": "code",
   "execution_count": 25,
   "metadata": {
    "colab": {
     "base_uri": "https://localhost:8080/",
     "height": 1000
    },
    "id": "aCgIeBpz9uZC",
    "outputId": "5cb04a48-0cd0-4f8e-a844-07316344a294"
   },
   "outputs": [
    {
     "name": "stdout",
     "output_type": "stream",
     "text": [
      "Epoch 1/15\n",
      "586/586 [==============================] - 2s 3ms/step - loss: 1.0680 - accuracy: 0.6538 - val_loss: 0.6169 - val_accuracy: 0.8309\n",
      "Epoch 2/15\n",
      "586/586 [==============================] - 1s 2ms/step - loss: 0.4072 - accuracy: 0.8896 - val_loss: 0.5617 - val_accuracy: 0.8261\n",
      "Epoch 3/15\n",
      "586/586 [==============================] - 1s 3ms/step - loss: 0.2399 - accuracy: 0.9349 - val_loss: 0.5571 - val_accuracy: 0.8430\n",
      "Epoch 4/15\n",
      "586/586 [==============================] - 2s 3ms/step - loss: 0.1923 - accuracy: 0.9526 - val_loss: 0.5831 - val_accuracy: 0.8370\n",
      "Epoch 5/15\n",
      "586/586 [==============================] - 1s 2ms/step - loss: 0.1730 - accuracy: 0.9573 - val_loss: 0.6063 - val_accuracy: 0.8273\n",
      "Epoch 6/15\n",
      "586/586 [==============================] - 1s 2ms/step - loss: 0.1666 - accuracy: 0.9562 - val_loss: 0.6355 - val_accuracy: 0.8237\n",
      "Epoch 7/15\n",
      "586/586 [==============================] - 1s 2ms/step - loss: 0.1650 - accuracy: 0.9560 - val_loss: 0.6351 - val_accuracy: 0.8285\n",
      "Epoch 8/15\n",
      "586/586 [==============================] - 1s 2ms/step - loss: 0.1621 - accuracy: 0.9565 - val_loss: 0.6516 - val_accuracy: 0.8345\n",
      "Epoch 9/15\n",
      "586/586 [==============================] - 1s 2ms/step - loss: 0.1624 - accuracy: 0.9577 - val_loss: 0.6583 - val_accuracy: 0.8285\n",
      "Epoch 10/15\n",
      "586/586 [==============================] - 1s 2ms/step - loss: 0.1581 - accuracy: 0.9560 - val_loss: 0.6504 - val_accuracy: 0.8333\n",
      "Epoch 11/15\n",
      "586/586 [==============================] - 1s 2ms/step - loss: 0.1540 - accuracy: 0.9573 - val_loss: 0.6815 - val_accuracy: 0.8321\n",
      "Epoch 12/15\n",
      "586/586 [==============================] - 1s 2ms/step - loss: 0.1493 - accuracy: 0.9582 - val_loss: 0.7239 - val_accuracy: 0.8188\n",
      "Epoch 13/15\n",
      "586/586 [==============================] - 1s 2ms/step - loss: 0.1508 - accuracy: 0.9558 - val_loss: 0.6958 - val_accuracy: 0.8394\n",
      "Epoch 14/15\n",
      "586/586 [==============================] - 1s 2ms/step - loss: 0.1473 - accuracy: 0.9584 - val_loss: 0.6820 - val_accuracy: 0.8309\n",
      "Epoch 15/15\n",
      "586/586 [==============================] - 1s 2ms/step - loss: 0.1435 - accuracy: 0.9577 - val_loss: 0.7544 - val_accuracy: 0.8321\n",
      " \n",
      "               precision    recall  f1-score   support\n",
      "\n",
      "     business       0.73      0.85      0.78       224\n",
      "entertainment       0.87      0.72      0.79        67\n",
      "       health       0.89      0.76      0.82        97\n",
      "     politics       0.88      0.92      0.90       190\n",
      "       sports       0.94      0.95      0.95       199\n",
      "         tech       0.44      0.24      0.31        51\n",
      "\n",
      "     accuracy                           0.83       828\n",
      "    macro avg       0.79      0.74      0.76       828\n",
      " weighted avg       0.83      0.83      0.82       828\n",
      "\n",
      " \n"
     ]
    },
    {
     "data": {
      "image/png": "[encoded data removed]",
      "text/plain": [
       "<Figure size 864x432 with 1 Axes>"
      ]
     },
     "metadata": {},
     "output_type": "display_data"
    }
   ],
   "source": [
    "nn_vectorizer(TfidfVectorizer, epochs=15, batch_size=8, h=0.0001)"
   ]
  },
  {
   "cell_type": "markdown",
   "metadata": {
    "id": "WK5uE3NRbmle"
   },
   "source": [
    "### Embeddings"
   ]
  },
  {
   "cell_type": "code",
   "execution_count": 26,
   "metadata": {
    "colab": {
     "base_uri": "https://localhost:8080/",
     "height": 1000
    },
    "id": "-Jt6NNh5b_NX",
    "outputId": "f37f81fc-fe27-402d-e894-23d66eb71f04"
   },
   "outputs": [
    {
     "name": "stdout",
     "output_type": "stream",
     "text": [
      "WARNING:tensorflow:Layer lstm will not use cuDNN kernels since it doesn't meet the criteria. It will use a generic GPU kernel as fallback when running on GPU.\n",
      "WARNING:tensorflow:Layer lstm_1 will not use cuDNN kernels since it doesn't meet the criteria. It will use a generic GPU kernel as fallback when running on GPU.\n",
      "Model: \"sequential_2\"\n",
      "_________________________________________________________________\n",
      " Layer (type)                Output Shape              Param #   \n",
      "=================================================================\n",
      " text_vectorization (TextVec  (None, 85)               0         \n",
      " torization)                                                     \n",
      "                                                                 \n",
      " embedding (Embedding)       (None, 85, 32)            332864    \n",
      "                                                                 \n",
      " lstm (LSTM)                 (None, 85, 16)            3136      \n",
      "                                                                 \n",
      " lstm_1 (LSTM)               (None, 8)                 800       \n",
      "                                                                 \n",
      " dense_6 (Dense)             (None, 6)                 54        \n",
      "                                                                 \n",
      "=================================================================\n",
      "Total params: 336,854\n",
      "Trainable params: 336,854\n",
      "Non-trainable params: 0\n",
      "_________________________________________________________________\n",
      "Epoch 1/10\n",
      "293/293 [==============================] - 110s 369ms/step - loss: 1.6692 - accuracy: 0.4941 - val_loss: 1.2292 - val_accuracy: 0.6292\n",
      "Epoch 2/10\n",
      "293/293 [==============================] - 109s 371ms/step - loss: 0.9505 - accuracy: 0.7050 - val_loss: 0.9621 - val_accuracy: 0.7343\n",
      "Epoch 3/10\n",
      "293/293 [==============================] - 109s 373ms/step - loss: 0.6415 - accuracy: 0.8015 - val_loss: 0.9819 - val_accuracy: 0.7198\n",
      "Epoch 4/10\n",
      "293/293 [==============================] - 106s 363ms/step - loss: 0.5121 - accuracy: 0.8542 - val_loss: 1.0901 - val_accuracy: 0.7403\n",
      "Epoch 5/10\n",
      "293/293 [==============================] - 109s 371ms/step - loss: 0.4445 - accuracy: 0.8946 - val_loss: 1.2149 - val_accuracy: 0.7343\n",
      "Epoch 6/10\n",
      "293/293 [==============================] - 108s 370ms/step - loss: 0.3408 - accuracy: 0.9236 - val_loss: 1.4169 - val_accuracy: 0.7512\n",
      "Epoch 7/10\n",
      "293/293 [==============================] - 107s 364ms/step - loss: 0.2887 - accuracy: 0.9319 - val_loss: 1.4770 - val_accuracy: 0.7391\n",
      "Epoch 8/10\n",
      "293/293 [==============================] - 108s 369ms/step - loss: 0.2454 - accuracy: 0.9413 - val_loss: 1.8723 - val_accuracy: 0.7355\n",
      "Epoch 9/10\n",
      "293/293 [==============================] - 109s 374ms/step - loss: 0.2289 - accuracy: 0.9441 - val_loss: 1.7586 - val_accuracy: 0.7307\n",
      "Epoch 10/10\n",
      "293/293 [==============================] - 109s 372ms/step - loss: 0.2100 - accuracy: 0.9466 - val_loss: 1.8740 - val_accuracy: 0.7379\n",
      " \n",
      "               precision    recall  f1-score   support\n",
      "\n",
      "     business       0.69      0.76      0.72       224\n",
      "entertainment       0.40      0.60      0.48        67\n",
      "       health       0.85      0.73      0.78        97\n",
      "     politics       0.83      0.77      0.80       190\n",
      "       sports       0.95      0.86      0.90       199\n",
      "         tech       0.30      0.25      0.28        51\n",
      "\n",
      "     accuracy                           0.74       828\n",
      "    macro avg       0.67      0.66      0.66       828\n",
      " weighted avg       0.76      0.74      0.74       828\n",
      "\n",
      " \n"
     ]
    },
    {
     "data": {
      "image/png": "[encoded data removed]",
      "text/plain": [
       "<Figure size 864x432 with 1 Axes>"
      ]
     },
     "metadata": {},
     "output_type": "display_data"
    }
   ],
   "source": [
    "nn_vectorizer(embeddings=True)"
   ]
  },
  {
   "cell_type": "markdown",
   "metadata": {},
   "source": [
    "## Juntando titulo com o texto"
   ]
  },
  {
   "cell_type": "markdown",
   "metadata": {},
   "source": [
    "### Bow"
   ]
  },
  {
   "cell_type": "code",
   "execution_count": 20,
   "metadata": {},
   "outputs": [
    {
     "name": "stdout",
     "output_type": "stream",
     "text": [
      "Epoch 1/10\n",
      "586/586 [==============================] - 2s 3ms/step - loss: 1.2702 - accuracy: 0.7513 - val_loss: 1.0351 - val_accuracy: 0.8551\n",
      "Epoch 2/10\n",
      "586/586 [==============================] - 2s 3ms/step - loss: 0.9785 - accuracy: 0.8574 - val_loss: 0.9993 - val_accuracy: 0.8587\n",
      "Epoch 3/10\n",
      "586/586 [==============================] - 2s 3ms/step - loss: 0.9421 - accuracy: 0.8672 - val_loss: 0.9941 - val_accuracy: 0.8502\n",
      "Epoch 4/10\n",
      "586/586 [==============================] - 2s 3ms/step - loss: 0.9129 - accuracy: 0.8753 - val_loss: 0.9945 - val_accuracy: 0.8490\n",
      "Epoch 5/10\n",
      "586/586 [==============================] - 2s 3ms/step - loss: 0.8726 - accuracy: 0.8794 - val_loss: 0.9867 - val_accuracy: 0.8527\n",
      "Epoch 6/10\n",
      "586/586 [==============================] - 2s 3ms/step - loss: 0.8669 - accuracy: 0.8820 - val_loss: 0.9222 - val_accuracy: 0.8744\n",
      "Epoch 7/10\n",
      "586/586 [==============================] - 2s 3ms/step - loss: 0.8464 - accuracy: 0.8818 - val_loss: 0.9666 - val_accuracy: 0.8684\n",
      "Epoch 8/10\n",
      "586/586 [==============================] - 2s 3ms/step - loss: 0.8179 - accuracy: 0.8892 - val_loss: 0.9234 - val_accuracy: 0.8502\n",
      "Epoch 9/10\n",
      "586/586 [==============================] - 2s 3ms/step - loss: 0.8070 - accuracy: 0.8943 - val_loss: 0.8893 - val_accuracy: 0.8684\n",
      "Epoch 10/10\n",
      "586/586 [==============================] - 2s 3ms/step - loss: 0.7798 - accuracy: 0.8941 - val_loss: 0.9225 - val_accuracy: 0.8442\n",
      " \n",
      "               precision    recall  f1-score   support\n",
      "\n",
      "     business       0.74      0.90      0.81       224\n",
      "entertainment       0.84      0.78      0.81        67\n",
      "       health       0.88      0.76      0.82        97\n",
      "     politics       0.90      0.88      0.89       190\n",
      "       sports       0.93      0.96      0.94       199\n",
      "         tech       0.65      0.25      0.37        51\n",
      "\n",
      "     accuracy                           0.84       828\n",
      "    macro avg       0.82      0.76      0.77       828\n",
      " weighted avg       0.84      0.84      0.84       828\n",
      "\n",
      " \n"
     ]
    },
    {
     "data": {
      "image/png": "[encoded data removed]",
      "text/plain": [
       "<Figure size 864x432 with 1 Axes>"
      ]
     },
     "metadata": {},
     "output_type": "display_data"
    }
   ],
   "source": [
    "nn_vectorizer(CountVectorizer, batch_size=8, column='Joined')"
   ]
  },
  {
   "cell_type": "markdown",
   "metadata": {},
   "source": [
    "### Tfidf"
   ]
  },
  {
   "cell_type": "code",
   "execution_count": 21,
   "metadata": {},
   "outputs": [
    {
     "name": "stdout",
     "output_type": "stream",
     "text": [
      "Epoch 1/15\n",
      "781/781 [==============================] - 3s 3ms/step - loss: 1.6867 - accuracy: 0.5016 - val_loss: 1.5172 - val_accuracy: 0.6606\n",
      "Epoch 2/15\n",
      "781/781 [==============================] - 2s 3ms/step - loss: 1.4805 - accuracy: 0.6758 - val_loss: 1.3998 - val_accuracy: 0.6896\n",
      "Epoch 3/15\n",
      "781/781 [==============================] - 2s 2ms/step - loss: 1.3826 - accuracy: 0.7014 - val_loss: 1.3278 - val_accuracy: 0.7234\n",
      "Epoch 4/15\n",
      "781/781 [==============================] - 2s 3ms/step - loss: 1.3194 - accuracy: 0.7419 - val_loss: 1.2841 - val_accuracy: 0.7572\n",
      "Epoch 5/15\n",
      "781/781 [==============================] - 2s 2ms/step - loss: 1.2789 - accuracy: 0.7665 - val_loss: 1.2460 - val_accuracy: 0.7705\n",
      "Epoch 6/15\n",
      "781/781 [==============================] - 2s 2ms/step - loss: 1.2384 - accuracy: 0.7744 - val_loss: 1.1935 - val_accuracy: 0.7862\n",
      "Epoch 7/15\n",
      "781/781 [==============================] - 2s 2ms/step - loss: 1.2046 - accuracy: 0.7834 - val_loss: 1.2120 - val_accuracy: 0.7790\n",
      "Epoch 8/15\n",
      "781/781 [==============================] - 2s 2ms/step - loss: 1.1904 - accuracy: 0.7857 - val_loss: 1.2181 - val_accuracy: 0.7693\n",
      "Epoch 9/15\n",
      "781/781 [==============================] - 2s 2ms/step - loss: 1.1696 - accuracy: 0.7902 - val_loss: 1.1631 - val_accuracy: 0.7814\n",
      "Epoch 10/15\n",
      "781/781 [==============================] - 2s 2ms/step - loss: 1.1507 - accuracy: 0.7953 - val_loss: 1.1718 - val_accuracy: 0.7838\n",
      "Epoch 11/15\n",
      "781/781 [==============================] - 2s 2ms/step - loss: 1.1363 - accuracy: 0.8045 - val_loss: 1.1303 - val_accuracy: 0.7911\n",
      "Epoch 12/15\n",
      "781/781 [==============================] - 2s 2ms/step - loss: 1.1262 - accuracy: 0.8034 - val_loss: 1.1820 - val_accuracy: 0.7826\n",
      "Epoch 13/15\n",
      "781/781 [==============================] - 2s 2ms/step - loss: 1.1167 - accuracy: 0.8079 - val_loss: 1.1220 - val_accuracy: 0.7911\n",
      "Epoch 14/15\n",
      "781/781 [==============================] - 2s 2ms/step - loss: 1.0925 - accuracy: 0.8117 - val_loss: 1.1048 - val_accuracy: 0.8092\n",
      "Epoch 15/15\n",
      "781/781 [==============================] - 2s 2ms/step - loss: 1.0925 - accuracy: 0.8124 - val_loss: 1.1095 - val_accuracy: 0.7947\n",
      " \n",
      "               precision    recall  f1-score   support\n",
      "\n",
      "     business       0.69      0.91      0.79       224\n",
      "entertainment       0.56      0.21      0.30        67\n",
      "       health       0.80      0.77      0.79        97\n",
      "     politics       0.91      0.89      0.90       190\n",
      "       sports       0.86      0.98      0.92       199\n",
      "         tech       0.00      0.00      0.00        51\n",
      "\n",
      "     accuracy                           0.79       828\n",
      "    macro avg       0.64      0.63      0.62       828\n",
      " weighted avg       0.74      0.79      0.76       828\n",
      "\n",
      " \n"
     ]
    },
    {
     "name": "stderr",
     "output_type": "stream",
     "text": [
      "C:\\Users\\Dayvison\\AppData\\Roaming\\Python\\Python39\\site-packages\\sklearn\\metrics\\_classification.py:1334: UndefinedMetricWarning: Precision and F-score are ill-defined and being set to 0.0 in labels with no predicted samples. Use `zero_division` parameter to control this behavior.\n",
      "  _warn_prf(average, modifier, msg_start, len(result))\n",
      "C:\\Users\\Dayvison\\AppData\\Roaming\\Python\\Python39\\site-packages\\sklearn\\metrics\\_classification.py:1334: UndefinedMetricWarning: Precision and F-score are ill-defined and being set to 0.0 in labels with no predicted samples. Use `zero_division` parameter to control this behavior.\n",
      "  _warn_prf(average, modifier, msg_start, len(result))\n",
      "C:\\Users\\Dayvison\\AppData\\Roaming\\Python\\Python39\\site-packages\\sklearn\\metrics\\_classification.py:1334: UndefinedMetricWarning: Precision and F-score are ill-defined and being set to 0.0 in labels with no predicted samples. Use `zero_division` parameter to control this behavior.\n",
      "  _warn_prf(average, modifier, msg_start, len(result))\n"
     ]
    },
    {
     "data": {
      "image/png": "[encoded data removed]",
      "text/plain": [
       "<Figure size 864x432 with 1 Axes>"
      ]
     },
     "metadata": {},
     "output_type": "display_data"
    }
   ],
   "source": [
    "nn_vectorizer(TfidfVectorizer, epochs=15, batch_size=6, column='Joined')"
   ]
  },
  {
   "cell_type": "markdown",
   "metadata": {},
   "source": [
    "### Embedding"
   ]
  },
  {
   "cell_type": "code",
   "execution_count": 23,
   "metadata": {},
   "outputs": [
    {
     "name": "stdout",
     "output_type": "stream",
     "text": [
      "WARNING:tensorflow:Layer lstm_2 will not use cuDNN kernels since it doesn't meet the criteria. It will use a generic GPU kernel as fallback when running on GPU.\n",
      "WARNING:tensorflow:Layer lstm_3 will not use cuDNN kernels since it doesn't meet the criteria. It will use a generic GPU kernel as fallback when running on GPU.\n",
      "Model: \"sequential_3\"\n",
      "_________________________________________________________________\n",
      " Layer (type)                Output Shape              Param #   \n",
      "=================================================================\n",
      " text_vectorization_1 (TextV  (None, 135)              0         \n",
      " ectorization)                                                   \n",
      "                                                                 \n",
      " embedding_1 (Embedding)     (None, 135, 32)           402304    \n",
      "                                                                 \n",
      " lstm_2 (LSTM)               (None, 135, 16)           3136      \n",
      "                                                                 \n",
      " lstm_3 (LSTM)               (None, 8)                 800       \n",
      "                                                                 \n",
      " dense_7 (Dense)             (None, 6)                 54        \n",
      "                                                                 \n",
      "=================================================================\n",
      "Total params: 406,294\n",
      "Trainable params: 406,294\n",
      "Non-trainable params: 0\n",
      "_________________________________________________________________\n",
      "Epoch 1/10\n",
      "147/147 [==============================] - 88s 587ms/step - loss: 1.8819 - accuracy: 0.4220 - val_loss: 1.3059 - val_accuracy: 0.6473\n",
      "Epoch 2/10\n",
      "147/147 [==============================] - 85s 579ms/step - loss: 1.0553 - accuracy: 0.6993 - val_loss: 0.9266 - val_accuracy: 0.6932\n",
      "Epoch 3/10\n",
      "147/147 [==============================] - 85s 576ms/step - loss: 0.6673 - accuracy: 0.7417 - val_loss: 1.0089 - val_accuracy: 0.7283\n",
      "Epoch 4/10\n",
      "147/147 [==============================] - 86s 586ms/step - loss: 0.5138 - accuracy: 0.8476 - val_loss: 1.1502 - val_accuracy: 0.7355\n",
      "Epoch 5/10\n",
      "147/147 [==============================] - 84s 572ms/step - loss: 0.4150 - accuracy: 0.8890 - val_loss: 4.2775 - val_accuracy: 0.7536\n",
      "Epoch 6/10\n",
      "147/147 [==============================] - 84s 570ms/step - loss: 0.4811 - accuracy: 0.9114 - val_loss: 2.9229 - val_accuracy: 0.6594\n",
      "Epoch 7/10\n",
      "147/147 [==============================] - 85s 579ms/step - loss: 0.3242 - accuracy: 0.9264 - val_loss: 6.1277 - val_accuracy: 0.7572\n",
      "Epoch 8/10\n",
      "147/147 [==============================] - 84s 573ms/step - loss: 0.2685 - accuracy: 0.9396 - val_loss: 11.4649 - val_accuracy: 0.7246\n",
      "Epoch 9/10\n",
      "147/147 [==============================] - 84s 575ms/step - loss: 0.2323 - accuracy: 0.9483 - val_loss: 18.8927 - val_accuracy: 0.7669\n",
      "Epoch 10/10\n",
      "147/147 [==============================] - 84s 569ms/step - loss: 0.2225 - accuracy: 0.9524 - val_loss: 10.4647 - val_accuracy: 0.7585\n",
      " \n",
      "               precision    recall  f1-score   support\n",
      "\n",
      "     business       0.80      0.70      0.75       224\n",
      "entertainment       0.50      0.76      0.61        67\n",
      "       health       0.61      0.75      0.67        97\n",
      "     politics       0.86      0.86      0.86       190\n",
      "       sports       0.98      0.83      0.90       199\n",
      "         tech       0.33      0.33      0.33        51\n",
      "\n",
      "     accuracy                           0.76       828\n",
      "    macro avg       0.68      0.71      0.69       828\n",
      " weighted avg       0.78      0.76      0.77       828\n",
      "\n",
      " \n"
     ]
    },
    {
     "data": {
      "image/png": "[encoded data removed]",
      "text/plain": [
       "<Figure size 864x432 with 1 Axes>"
      ]
     },
     "metadata": {},
     "output_type": "display_data"
    }
   ],
   "source": [
    "nn_vectorizer(embeddings=True, epochs=10, batch_size=32, column='Joined')"
   ]
  },
  {
   "cell_type": "markdown",
   "metadata": {},
   "source": [
    "### UnderSampler"
   ]
  },
  {
   "cell_type": "code",
   "execution_count": 123,
   "metadata": {},
   "outputs": [],
   "source": [
    "columns_train = train.drop(columns=['Category']).columns"
   ]
  },
  {
   "cell_type": "code",
   "execution_count": 124,
   "metadata": {},
   "outputs": [],
   "source": [
    "rus = RandomUnderSampler(random_state=42)\n",
    "train, y = rus.fit_resample(train.drop(columns=['Category']).values, train['Category'])\n"
   ]
  },
  {
   "cell_type": "code",
   "execution_count": 125,
   "metadata": {},
   "outputs": [],
   "source": [
    "train = pd.DataFrame(train, columns=columns_train)"
   ]
  },
  {
   "cell_type": "code",
   "execution_count": 126,
   "metadata": {},
   "outputs": [],
   "source": [
    "train['Category'] = y"
   ]
  },
  {
   "cell_type": "code",
   "execution_count": 127,
   "metadata": {},
   "outputs": [
    {
     "data": {
      "text/html": [
       "<div>\n",
       "<style scoped>\n",
       "    .dataframe tbody tr th:only-of-type {\n",
       "        vertical-align: middle;\n",
       "    }\n",
       "\n",
       "    .dataframe tbody tr th {\n",
       "        vertical-align: top;\n",
       "    }\n",
       "\n",
       "    .dataframe thead th {\n",
       "        text-align: right;\n",
       "    }\n",
       "</style>\n",
       "<table border=\"1\" class=\"dataframe\">\n",
       "  <thead>\n",
       "    <tr style=\"text-align: right;\">\n",
       "      <th></th>\n",
       "      <th>index</th>\n",
       "      <th>Title</th>\n",
       "      <th>Excerpt</th>\n",
       "      <th>Joined</th>\n",
       "      <th>Category</th>\n",
       "    </tr>\n",
       "  </thead>\n",
       "  <tbody>\n",
       "    <tr>\n",
       "      <th>0</th>\n",
       "      <td>4475</td>\n",
       "      <td>NNPC Pays $452.5m Cash Call Arrears to IOCs in...</td>\n",
       "      <td>nigerian national petroleum company nnpc paid ...</td>\n",
       "      <td>nnpc pays cash call arrears iocs one year nige...</td>\n",
       "      <td>business</td>\n",
       "    </tr>\n",
       "    <tr>\n",
       "      <th>1</th>\n",
       "      <td>2958</td>\n",
       "      <td>Nigeria: Dangote Cement Gives Multimillion Nai...</td>\n",
       "      <td>dangote cement awarded multi million naira edu...</td>\n",
       "      <td>nigeria dangote cement gives multimillion nair...</td>\n",
       "      <td>business</td>\n",
       "    </tr>\n",
       "    <tr>\n",
       "      <th>2</th>\n",
       "      <td>1571</td>\n",
       "      <td>MTN To Make Up For Network Disruption By Exten...</td>\n",
       "      <td>way paying back network disruption experienced...</td>\n",
       "      <td>mtn make network disruption extending users ti...</td>\n",
       "      <td>business</td>\n",
       "    </tr>\n",
       "    <tr>\n",
       "      <th>3</th>\n",
       "      <td>3566</td>\n",
       "      <td>World’s Largest Retailer Walmart Sells Operati...</td>\n",
       "      <td>walmart inc worlds largest retailer said frida...</td>\n",
       "      <td>worlds largest retailer walmart sells operatio...</td>\n",
       "      <td>business</td>\n",
       "    </tr>\n",
       "    <tr>\n",
       "      <th>4</th>\n",
       "      <td>2973</td>\n",
       "      <td>South Korea’s LG Pulls Out of Smartphone Busin...</td>\n",
       "      <td>south koreas lg electronics inc wind loss maki...</td>\n",
       "      <td>south koreas lg pulls smartphone business glob...</td>\n",
       "      <td>business</td>\n",
       "    </tr>\n",
       "    <tr>\n",
       "      <th>...</th>\n",
       "      <td>...</td>\n",
       "      <td>...</td>\n",
       "      <td>...</td>\n",
       "      <td>...</td>\n",
       "      <td>...</td>\n",
       "    </tr>\n",
       "    <tr>\n",
       "      <th>1729</th>\n",
       "      <td>4646</td>\n",
       "      <td>Solar Storm Knocks Out 40 Newly Launched Space...</td>\n",
       "      <td>geomagnetic storm triggered large burst radiat...</td>\n",
       "      <td>solar storm knocks newly launched spacex satel...</td>\n",
       "      <td>tech</td>\n",
       "    </tr>\n",
       "    <tr>\n",
       "      <th>1730</th>\n",
       "      <td>4661</td>\n",
       "      <td>Google Announces $1bn Investment in African In...</td>\n",
       "      <td>way giving thousands africans access fast chea...</td>\n",
       "      <td>google announces bn investment african interne...</td>\n",
       "      <td>tech</td>\n",
       "    </tr>\n",
       "    <tr>\n",
       "      <th>1731</th>\n",
       "      <td>4671</td>\n",
       "      <td>Italy’s Antitrust Fines Amazon 1.13bn Euros fo...</td>\n",
       "      <td>italys antitrust said thursday fined e commerc...</td>\n",
       "      <td>italys antitrust fines amazon bn euros alleged...</td>\n",
       "      <td>tech</td>\n",
       "    </tr>\n",
       "    <tr>\n",
       "      <th>1732</th>\n",
       "      <td>4673</td>\n",
       "      <td>Tesla Takes Another Step to India Launch</td>\n",
       "      <td>tesla moved step closer launch india later yea...</td>\n",
       "      <td>tesla takes another step india launch tesla mo...</td>\n",
       "      <td>tech</td>\n",
       "    </tr>\n",
       "    <tr>\n",
       "      <th>1733</th>\n",
       "      <td>4677</td>\n",
       "      <td>Despite Cryptocurrency Ban, Twitter CEO Dorsey...</td>\n",
       "      <td>twitter ceo billionaire co founder jack dorsey...</td>\n",
       "      <td>despite cryptocurrency ban twitter ceo dorsey ...</td>\n",
       "      <td>tech</td>\n",
       "    </tr>\n",
       "  </tbody>\n",
       "</table>\n",
       "<p>1734 rows × 5 columns</p>\n",
       "</div>"
      ],
      "text/plain": [
       "     index                                              Title  \\\n",
       "0     4475  NNPC Pays $452.5m Cash Call Arrears to IOCs in...   \n",
       "1     2958  Nigeria: Dangote Cement Gives Multimillion Nai...   \n",
       "2     1571  MTN To Make Up For Network Disruption By Exten...   \n",
       "3     3566  World’s Largest Retailer Walmart Sells Operati...   \n",
       "4     2973  South Korea’s LG Pulls Out of Smartphone Busin...   \n",
       "...    ...                                                ...   \n",
       "1729  4646  Solar Storm Knocks Out 40 Newly Launched Space...   \n",
       "1730  4661  Google Announces $1bn Investment in African In...   \n",
       "1731  4671  Italy’s Antitrust Fines Amazon 1.13bn Euros fo...   \n",
       "1732  4673           Tesla Takes Another Step to India Launch   \n",
       "1733  4677  Despite Cryptocurrency Ban, Twitter CEO Dorsey...   \n",
       "\n",
       "                                                Excerpt  \\\n",
       "0     nigerian national petroleum company nnpc paid ...   \n",
       "1     dangote cement awarded multi million naira edu...   \n",
       "2     way paying back network disruption experienced...   \n",
       "3     walmart inc worlds largest retailer said frida...   \n",
       "4     south koreas lg electronics inc wind loss maki...   \n",
       "...                                                 ...   \n",
       "1729  geomagnetic storm triggered large burst radiat...   \n",
       "1730  way giving thousands africans access fast chea...   \n",
       "1731  italys antitrust said thursday fined e commerc...   \n",
       "1732  tesla moved step closer launch india later yea...   \n",
       "1733  twitter ceo billionaire co founder jack dorsey...   \n",
       "\n",
       "                                                 Joined  Category  \n",
       "0     nnpc pays cash call arrears iocs one year nige...  business  \n",
       "1     nigeria dangote cement gives multimillion nair...  business  \n",
       "2     mtn make network disruption extending users ti...  business  \n",
       "3     worlds largest retailer walmart sells operatio...  business  \n",
       "4     south koreas lg pulls smartphone business glob...  business  \n",
       "...                                                 ...       ...  \n",
       "1729  solar storm knocks newly launched spacex satel...      tech  \n",
       "1730  google announces bn investment african interne...      tech  \n",
       "1731  italys antitrust fines amazon bn euros alleged...      tech  \n",
       "1732  tesla takes another step india launch tesla mo...      tech  \n",
       "1733  despite cryptocurrency ban twitter ceo dorsey ...      tech  \n",
       "\n",
       "[1734 rows x 5 columns]"
      ]
     },
     "execution_count": 127,
     "metadata": {},
     "output_type": "execute_result"
    }
   ],
   "source": [
    "train"
   ]
  },
  {
   "cell_type": "code",
   "execution_count": 128,
   "metadata": {},
   "outputs": [
    {
     "data": {
      "text/plain": [
       "business         289\n",
       "entertainment    289\n",
       "health           289\n",
       "politics         289\n",
       "sports           289\n",
       "tech             289\n",
       "Name: Category, dtype: int64"
      ]
     },
     "execution_count": 128,
     "metadata": {},
     "output_type": "execute_result"
    }
   ],
   "source": [
    "train['Category'].value_counts()"
   ]
  },
  {
   "cell_type": "code",
   "execution_count": 129,
   "metadata": {},
   "outputs": [],
   "source": [
    "y_train = one.fit_transform(train['Category'].values.reshape(-1,1))"
   ]
  },
  {
   "cell_type": "markdown",
   "metadata": {},
   "source": [
    "### Bow"
   ]
  },
  {
   "cell_type": "code",
   "execution_count": 132,
   "metadata": {},
   "outputs": [
    {
     "name": "stdout",
     "output_type": "stream",
     "text": [
      "Epoch 1/10\n",
      "1734/1734 [==============================] - 4s 2ms/step - loss: 1.6991 - accuracy: 0.5825 - val_loss: 1.4903 - val_accuracy: 0.7669\n",
      "Epoch 2/10\n",
      "1734/1734 [==============================] - 4s 2ms/step - loss: 1.4955 - accuracy: 0.7814 - val_loss: 1.5727 - val_accuracy: 0.7609\n",
      "Epoch 3/10\n",
      "1734/1734 [==============================] - 4s 2ms/step - loss: 1.3856 - accuracy: 0.8120 - val_loss: 1.5255 - val_accuracy: 0.7657\n",
      "Epoch 4/10\n",
      "1734/1734 [==============================] - 4s 2ms/step - loss: 1.3488 - accuracy: 0.8149 - val_loss: 1.5070 - val_accuracy: 0.7452\n",
      "Epoch 5/10\n",
      "1734/1734 [==============================] - 4s 2ms/step - loss: 1.2708 - accuracy: 0.8333 - val_loss: 1.4671 - val_accuracy: 0.7597\n",
      "Epoch 6/10\n",
      "1734/1734 [==============================] - 4s 2ms/step - loss: 1.2092 - accuracy: 0.8408 - val_loss: 1.4322 - val_accuracy: 0.7681\n",
      "Epoch 7/10\n",
      "1734/1734 [==============================] - 4s 3ms/step - loss: 1.1684 - accuracy: 0.8443 - val_loss: 1.4006 - val_accuracy: 0.7717\n",
      "Epoch 8/10\n",
      "1734/1734 [==============================] - 5s 3ms/step - loss: 1.0960 - accuracy: 0.8610 - val_loss: 1.3168 - val_accuracy: 0.7874\n",
      "Epoch 9/10\n",
      "1734/1734 [==============================] - 4s 2ms/step - loss: 1.0669 - accuracy: 0.8656 - val_loss: 1.3217 - val_accuracy: 0.7645\n",
      "Epoch 10/10\n",
      "1734/1734 [==============================] - 4s 3ms/step - loss: 0.9921 - accuracy: 0.8812 - val_loss: 1.3773 - val_accuracy: 0.7319\n",
      " \n",
      "               precision    recall  f1-score   support\n",
      "\n",
      "     business       0.76      0.65      0.70       224\n",
      "entertainment       0.58      0.67      0.62        67\n",
      "       health       0.65      0.78      0.71        97\n",
      "     politics       0.92      0.71      0.80       190\n",
      "       sports       0.89      0.86      0.87       199\n",
      "         tech       0.32      0.65      0.43        51\n",
      "\n",
      "     accuracy                           0.73       828\n",
      "    macro avg       0.69      0.72      0.69       828\n",
      " weighted avg       0.77      0.73      0.74       828\n",
      "\n",
      " \n"
     ]
    },
    {
     "data": {
      "image/png": "[encoded data removed]",
      "text/plain": [
       "<Figure size 864x432 with 1 Axes>"
      ]
     },
     "metadata": {},
     "output_type": "display_data"
    }
   ],
   "source": [
    "nn_vectorizer(CountVectorizer, epochs=10, batch_size=1)"
   ]
  },
  {
   "cell_type": "markdown",
   "metadata": {},
   "source": [
    "### Tfidf"
   ]
  },
  {
   "cell_type": "code",
   "execution_count": 133,
   "metadata": {},
   "outputs": [
    {
     "name": "stdout",
     "output_type": "stream",
     "text": [
      "Epoch 1/10\n",
      "1734/1734 [==============================] - 5s 3ms/step - loss: 1.8176 - accuracy: 0.1655 - val_loss: 1.7899 - val_accuracy: 0.2705\n",
      "Epoch 2/10\n",
      "1734/1734 [==============================] - 4s 2ms/step - loss: 1.7928 - accuracy: 0.1499 - val_loss: 1.7919 - val_accuracy: 0.1171\n",
      "Epoch 3/10\n",
      "1734/1734 [==============================] - 4s 2ms/step - loss: 1.7928 - accuracy: 0.1540 - val_loss: 1.7907 - val_accuracy: 0.2705\n",
      "Epoch 4/10\n",
      "1734/1734 [==============================] - 4s 2ms/step - loss: 1.7927 - accuracy: 0.1471 - val_loss: 1.7903 - val_accuracy: 0.2705\n",
      "Epoch 5/10\n",
      "1734/1734 [==============================] - 5s 3ms/step - loss: 1.7928 - accuracy: 0.1546 - val_loss: 1.7925 - val_accuracy: 0.1171\n",
      "Epoch 6/10\n",
      "1734/1734 [==============================] - 5s 3ms/step - loss: 1.7927 - accuracy: 0.1603 - val_loss: 1.7939 - val_accuracy: 0.1171\n",
      "Epoch 7/10\n",
      "1734/1734 [==============================] - 5s 3ms/step - loss: 1.7927 - accuracy: 0.1494 - val_loss: 1.7926 - val_accuracy: 0.0809\n",
      "Epoch 8/10\n",
      "1734/1734 [==============================] - 6s 3ms/step - loss: 1.7927 - accuracy: 0.1569 - val_loss: 1.7914 - val_accuracy: 0.1171\n",
      "Epoch 9/10\n",
      "1734/1734 [==============================] - 5s 3ms/step - loss: 1.7928 - accuracy: 0.1522 - val_loss: 1.7911 - val_accuracy: 0.2705\n",
      "Epoch 10/10\n",
      "1734/1734 [==============================] - 5s 3ms/step - loss: 1.7927 - accuracy: 0.1597 - val_loss: 1.7927 - val_accuracy: 0.2705\n",
      " \n",
      "               precision    recall  f1-score   support\n",
      "\n",
      "     business       0.27      1.00      0.43       224\n",
      "entertainment       0.00      0.00      0.00        67\n",
      "       health       0.00      0.00      0.00        97\n",
      "     politics       0.00      0.00      0.00       190\n",
      "       sports       0.00      0.00      0.00       199\n",
      "         tech       0.00      0.00      0.00        51\n",
      "\n",
      "     accuracy                           0.27       828\n",
      "    macro avg       0.05      0.17      0.07       828\n",
      " weighted avg       0.07      0.27      0.12       828\n",
      "\n",
      " \n"
     ]
    },
    {
     "name": "stderr",
     "output_type": "stream",
     "text": [
      "C:\\Users\\Dayvison\\AppData\\Roaming\\Python\\Python39\\site-packages\\sklearn\\metrics\\_classification.py:1334: UndefinedMetricWarning: Precision and F-score are ill-defined and being set to 0.0 in labels with no predicted samples. Use `zero_division` parameter to control this behavior.\n",
      "  _warn_prf(average, modifier, msg_start, len(result))\n",
      "C:\\Users\\Dayvison\\AppData\\Roaming\\Python\\Python39\\site-packages\\sklearn\\metrics\\_classification.py:1334: UndefinedMetricWarning: Precision and F-score are ill-defined and being set to 0.0 in labels with no predicted samples. Use `zero_division` parameter to control this behavior.\n",
      "  _warn_prf(average, modifier, msg_start, len(result))\n",
      "C:\\Users\\Dayvison\\AppData\\Roaming\\Python\\Python39\\site-packages\\sklearn\\metrics\\_classification.py:1334: UndefinedMetricWarning: Precision and F-score are ill-defined and being set to 0.0 in labels with no predicted samples. Use `zero_division` parameter to control this behavior.\n",
      "  _warn_prf(average, modifier, msg_start, len(result))\n"
     ]
    },
    {
     "data": {
      "image/png": "[encoded data removed]",
      "text/plain": [
       "<Figure size 864x432 with 1 Axes>"
      ]
     },
     "metadata": {},
     "output_type": "display_data"
    }
   ],
   "source": [
    "nn_vectorizer(TfidfVectorizer, epochs=10, batch_size=1)"
   ]
  },
  {
   "cell_type": "markdown",
   "metadata": {},
   "source": [
    "### Embedding"
   ]
  },
  {
   "cell_type": "code",
   "execution_count": 135,
   "metadata": {},
   "outputs": [
    {
     "name": "stdout",
     "output_type": "stream",
     "text": [
      "WARNING:tensorflow:Layer lstm_6 will not use cuDNN kernels since it doesn't meet the criteria. It will use a generic GPU kernel as fallback when running on GPU.\n",
      "WARNING:tensorflow:Layer lstm_7 will not use cuDNN kernels since it doesn't meet the criteria. It will use a generic GPU kernel as fallback when running on GPU.\n",
      "Model: \"sequential_9\"\n",
      "_________________________________________________________________\n",
      " Layer (type)                Output Shape              Param #   \n",
      "=================================================================\n",
      " text_vectorization_3 (TextV  (None, 121)              0         \n",
      " ectorization)                                                   \n",
      "                                                                 \n",
      " embedding_3 (Embedding)     (None, 121, 32)           206432    \n",
      "                                                                 \n",
      " lstm_6 (LSTM)               (None, 121, 16)           3136      \n",
      "                                                                 \n",
      " lstm_7 (LSTM)               (None, 8)                 800       \n",
      "                                                                 \n",
      " dense_21 (Dense)            (None, 6)                 54        \n",
      "                                                                 \n",
      "=================================================================\n",
      "Total params: 210,422\n",
      "Trainable params: 210,422\n",
      "Non-trainable params: 0\n",
      "_________________________________________________________________\n",
      "Epoch 1/10\n",
      "109/109 [==============================] - 63s 563ms/step - loss: 2.1483 - accuracy: 0.1724 - val_loss: 1.9581 - val_accuracy: 0.2742\n",
      "Epoch 2/10\n",
      "109/109 [==============================] - 60s 552ms/step - loss: 1.7569 - accuracy: 0.2976 - val_loss: 1.5458 - val_accuracy: 0.3865\n",
      "Epoch 3/10\n",
      "109/109 [==============================] - 62s 570ms/step - loss: 1.4363 - accuracy: 0.3904 - val_loss: 1.4787 - val_accuracy: 0.3877\n",
      "Epoch 4/10\n",
      "109/109 [==============================] - 63s 578ms/step - loss: 1.2036 - accuracy: 0.4666 - val_loss: 1.4047 - val_accuracy: 0.4046\n",
      "Epoch 5/10\n",
      "109/109 [==============================] - 64s 587ms/step - loss: 1.0032 - accuracy: 0.6228 - val_loss: 1.7273 - val_accuracy: 0.4420\n",
      "Epoch 6/10\n",
      "109/109 [==============================] - 64s 585ms/step - loss: 0.7932 - accuracy: 0.7295 - val_loss: 2.2649 - val_accuracy: 0.4589\n",
      "Epoch 7/10\n",
      "109/109 [==============================] - 66s 611ms/step - loss: 0.6556 - accuracy: 0.7797 - val_loss: 3.0865 - val_accuracy: 0.4251\n",
      "Epoch 8/10\n",
      "109/109 [==============================] - 61s 562ms/step - loss: 0.5235 - accuracy: 0.8541 - val_loss: 3.7923 - val_accuracy: 0.3986\n",
      "Epoch 9/10\n",
      "109/109 [==============================] - 61s 564ms/step - loss: 0.4107 - accuracy: 0.8939 - val_loss: 5.0447 - val_accuracy: 0.4626\n",
      "Epoch 10/10\n",
      "109/109 [==============================] - 63s 581ms/step - loss: 0.3868 - accuracy: 0.8881 - val_loss: 4.6695 - val_accuracy: 0.4601\n",
      " \n",
      "               precision    recall  f1-score   support\n",
      "\n",
      "     business       0.63      0.35      0.45       224\n",
      "entertainment       0.67      0.55      0.61        67\n",
      "       health       0.27      0.61      0.38        97\n",
      "     politics       0.44      0.19      0.27       190\n",
      "       sports       0.77      0.72      0.75       199\n",
      "         tech       0.16      0.51      0.24        51\n",
      "\n",
      "     accuracy                           0.46       828\n",
      "    macro avg       0.49      0.49      0.45       828\n",
      " weighted avg       0.55      0.46      0.47       828\n",
      "\n",
      " \n"
     ]
    },
    {
     "data": {
      "image/png": "[encoded data removed]",
      "text/plain": [
       "<Figure size 864x432 with 1 Axes>"
      ]
     },
     "metadata": {},
     "output_type": "display_data"
    }
   ],
   "source": [
    "nn_vectorizer(embeddings=True, epochs=10, batch_size=16)"
   ]
  },
  {
   "cell_type": "markdown",
   "metadata": {},
   "source": [
    "### Data Augmetation"
   ]
  },
  {
   "cell_type": "code",
   "execution_count": 110,
   "metadata": {},
   "outputs": [],
   "source": [
    "def get_synonyms(word):\n",
    "    \n",
    "    synonyms = set()\n",
    "    \n",
    "    for syn in wordnet.synsets(word): \n",
    "        for l in syn.lemmas(): \n",
    "            synonym = l.name().replace(\"_\", \" \").replace(\"-\", \" \").lower()\n",
    "            synonym = \"\".join([char for char in synonym if char in ' qwertyuiopasdfghjklzxcvbnm'])\n",
    "            synonyms.add(synonym) \n",
    "    \n",
    "    if word in synonyms:\n",
    "        synonyms.remove(word)\n",
    "    \n",
    "    return list(synonyms)\n",
    "\n",
    "def synonym_replacement(words, n):\n",
    "    \n",
    "    words = words.split()\n",
    "    \n",
    "    new_words = words.copy()\n",
    "    random_word_list = list(set([word for word in words if word not in stop_words]))\n",
    "    random.shuffle(random_word_list)\n",
    "    num_replaced = 0\n",
    "    \n",
    "    for random_word in random_word_list:\n",
    "        synonyms = get_synonyms(random_word)\n",
    "        \n",
    "        if len(synonyms) >= 1:\n",
    "            synonym = random.choice(list(synonyms))\n",
    "            new_words = [synonym if word == random_word else word for word in new_words]\n",
    "            num_replaced += 1\n",
    "        \n",
    "        if num_replaced >= n: #only replace up to n words\n",
    "            break\n",
    "\n",
    "    sentence = ' '.join(new_words)\n",
    "\n",
    "    return sentence"
   ]
  },
  {
   "cell_type": "code",
   "execution_count": 111,
   "metadata": {},
   "outputs": [],
   "source": [
    "tech = train[train['Category'] == 'tech']\n",
    "ent = train[train['Category'] == 'entertainment']\n",
    "health = train[train['Category'] == 'health']\n",
    "\n",
    "lista_pd = [tech, ent, health]"
   ]
  },
  {
   "cell_type": "code",
   "execution_count": 112,
   "metadata": {},
   "outputs": [],
   "source": [
    "n_vezes = 2\n",
    "\n",
    "for i in range(n_vezes):\n",
    "    cont = 0\n",
    "    \n",
    "    for df in lista_pd:\n",
    "        cont += 1\n",
    "        \n",
    "        if i == 1 and cont == 3:\n",
    "            break\n",
    "            \n",
    "        df = df.copy()\n",
    "        textos = df['Excerpt']\n",
    "        lista = []\n",
    "        \n",
    "        for frase in textos:\n",
    "            new_frase = synonym_replacement(frase, 2)\n",
    "            lista.append(new_frase)\n",
    "            df.loc[len(df)] = ['indice','title', new_frase, df['Category'].iloc[0], 'joined']\n",
    "\n",
    "        train = pd.concat([train, df])"
   ]
  },
  {
   "cell_type": "code",
   "execution_count": 113,
   "metadata": {},
   "outputs": [
    {
     "data": {
      "text/html": [
       "<div>\n",
       "<style scoped>\n",
       "    .dataframe tbody tr th:only-of-type {\n",
       "        vertical-align: middle;\n",
       "    }\n",
       "\n",
       "    .dataframe tbody tr th {\n",
       "        vertical-align: top;\n",
       "    }\n",
       "\n",
       "    .dataframe thead th {\n",
       "        text-align: right;\n",
       "    }\n",
       "</style>\n",
       "<table border=\"1\" class=\"dataframe\">\n",
       "  <thead>\n",
       "    <tr style=\"text-align: right;\">\n",
       "      <th></th>\n",
       "      <th>index</th>\n",
       "      <th>Title</th>\n",
       "      <th>Excerpt</th>\n",
       "      <th>Category</th>\n",
       "      <th>Joined</th>\n",
       "    </tr>\n",
       "  </thead>\n",
       "  <tbody>\n",
       "    <tr>\n",
       "      <th>0</th>\n",
       "      <td>0</td>\n",
       "      <td>Uefa Opens Proceedings against Barcelona, Juve...</td>\n",
       "      <td>uefa opened disciplinary proceedings barcelona...</td>\n",
       "      <td>sports</td>\n",
       "      <td>uefa opens proceedings barcelona juventus real...</td>\n",
       "    </tr>\n",
       "    <tr>\n",
       "      <th>1</th>\n",
       "      <td>1</td>\n",
       "      <td>Amazon Blames Inflation as It Increases Cost o...</td>\n",
       "      <td>increases steeper percent jump prime membershi...</td>\n",
       "      <td>business</td>\n",
       "      <td>amazon blames inflation increases cost prime e...</td>\n",
       "    </tr>\n",
       "    <tr>\n",
       "      <th>2</th>\n",
       "      <td>2</td>\n",
       "      <td>Nigeria’s Parliament Passes Amended Electoral ...</td>\n",
       "      <td>nigerias senate tuesday passed harmonised clau...</td>\n",
       "      <td>politics</td>\n",
       "      <td>nigerias parliament passes amended electoral b...</td>\n",
       "    </tr>\n",
       "    <tr>\n",
       "      <th>3</th>\n",
       "      <td>3</td>\n",
       "      <td>Nigeria: Lagos Governor Tests Positive for Cov...</td>\n",
       "      <td>lagos state governor mr babajide sanwo olu tes...</td>\n",
       "      <td>health</td>\n",
       "      <td>nigeria lagos governor tests positive covid ka...</td>\n",
       "    </tr>\n",
       "    <tr>\n",
       "      <th>4</th>\n",
       "      <td>4</td>\n",
       "      <td>South Africa Calls For Calm as Electoral Refor...</td>\n",
       "      <td>south africa raised concerns deteriorating sit...</td>\n",
       "      <td>politics</td>\n",
       "      <td>south africa calls calm electoral reform prote...</td>\n",
       "    </tr>\n",
       "    <tr>\n",
       "      <th>...</th>\n",
       "      <td>...</td>\n",
       "      <td>...</td>\n",
       "      <td>...</td>\n",
       "      <td>...</td>\n",
       "      <td>...</td>\n",
       "    </tr>\n",
       "    <tr>\n",
       "      <th>4630</th>\n",
       "      <td>4631</td>\n",
       "      <td>Chimamanda’s Half of a Yellow Sun Voted Best B...</td>\n",
       "      <td>chimamanda ngozi adichies novel half yellow su...</td>\n",
       "      <td>entertainment</td>\n",
       "      <td>chimamandas half yellow sun voted best book wo...</td>\n",
       "    </tr>\n",
       "    <tr>\n",
       "      <th>4658</th>\n",
       "      <td>4659</td>\n",
       "      <td>Ghislaine Maxwell Sentenced to 20 Years Over S...</td>\n",
       "      <td>ghislaine maxwell sentenced years us prison he...</td>\n",
       "      <td>entertainment</td>\n",
       "      <td>ghislaine maxwell sentenced years sex traffick...</td>\n",
       "    </tr>\n",
       "    <tr>\n",
       "      <th>4675</th>\n",
       "      <td>4676</td>\n",
       "      <td>Netflix’s ‘Bridgerton’ Renewed for Second Season</td>\n",
       "      <td>netflix confirmed renewal acclaimed period dra...</td>\n",
       "      <td>entertainment</td>\n",
       "      <td>netflixs bridgerton renewed second season netf...</td>\n",
       "    </tr>\n",
       "    <tr>\n",
       "      <th>4679</th>\n",
       "      <td>4680</td>\n",
       "      <td>Nollywood-Bollywood Collaboration ‘Namaste Wah...</td>\n",
       "      <td>nollywood bollywood collaboration namaste waha...</td>\n",
       "      <td>entertainment</td>\n",
       "      <td>nollywood bollywood collaboration namaste waha...</td>\n",
       "    </tr>\n",
       "    <tr>\n",
       "      <th>4680</th>\n",
       "      <td>4681</td>\n",
       "      <td>Uganda Drops Charges Against Nigerian Singers ...</td>\n",
       "      <td>nigerian singers omah lay tems set released po...</td>\n",
       "      <td>entertainment</td>\n",
       "      <td>uganda drops charges nigerian singers omah lay...</td>\n",
       "    </tr>\n",
       "  </tbody>\n",
       "</table>\n",
       "<p>6593 rows × 5 columns</p>\n",
       "</div>"
      ],
      "text/plain": [
       "     index                                              Title  \\\n",
       "0        0  Uefa Opens Proceedings against Barcelona, Juve...   \n",
       "1        1  Amazon Blames Inflation as It Increases Cost o...   \n",
       "2        2  Nigeria’s Parliament Passes Amended Electoral ...   \n",
       "3        3  Nigeria: Lagos Governor Tests Positive for Cov...   \n",
       "4        4  South Africa Calls For Calm as Electoral Refor...   \n",
       "...    ...                                                ...   \n",
       "4630  4631  Chimamanda’s Half of a Yellow Sun Voted Best B...   \n",
       "4658  4659  Ghislaine Maxwell Sentenced to 20 Years Over S...   \n",
       "4675  4676   Netflix’s ‘Bridgerton’ Renewed for Second Season   \n",
       "4679  4680  Nollywood-Bollywood Collaboration ‘Namaste Wah...   \n",
       "4680  4681  Uganda Drops Charges Against Nigerian Singers ...   \n",
       "\n",
       "                                                Excerpt       Category  \\\n",
       "0     uefa opened disciplinary proceedings barcelona...         sports   \n",
       "1     increases steeper percent jump prime membershi...       business   \n",
       "2     nigerias senate tuesday passed harmonised clau...       politics   \n",
       "3     lagos state governor mr babajide sanwo olu tes...         health   \n",
       "4     south africa raised concerns deteriorating sit...       politics   \n",
       "...                                                 ...            ...   \n",
       "4630  chimamanda ngozi adichies novel half yellow su...  entertainment   \n",
       "4658  ghislaine maxwell sentenced years us prison he...  entertainment   \n",
       "4675  netflix confirmed renewal acclaimed period dra...  entertainment   \n",
       "4679  nollywood bollywood collaboration namaste waha...  entertainment   \n",
       "4680  nigerian singers omah lay tems set released po...  entertainment   \n",
       "\n",
       "                                                 Joined  \n",
       "0     uefa opens proceedings barcelona juventus real...  \n",
       "1     amazon blames inflation increases cost prime e...  \n",
       "2     nigerias parliament passes amended electoral b...  \n",
       "3     nigeria lagos governor tests positive covid ka...  \n",
       "4     south africa calls calm electoral reform prote...  \n",
       "...                                                 ...  \n",
       "4630  chimamandas half yellow sun voted best book wo...  \n",
       "4658  ghislaine maxwell sentenced years sex traffick...  \n",
       "4675  netflixs bridgerton renewed second season netf...  \n",
       "4679  nollywood bollywood collaboration namaste waha...  \n",
       "4680  uganda drops charges nigerian singers omah lay...  \n",
       "\n",
       "[6593 rows x 5 columns]"
      ]
     },
     "execution_count": 113,
     "metadata": {},
     "output_type": "execute_result"
    }
   ],
   "source": [
    "train"
   ]
  },
  {
   "cell_type": "code",
   "execution_count": 114,
   "metadata": {},
   "outputs": [
    {
     "data": {
      "text/plain": [
       "<AxesSubplot:xlabel='Category', ylabel='count'>"
      ]
     },
     "execution_count": 114,
     "metadata": {},
     "output_type": "execute_result"
    },
    {
     "data": {
      "image/png": "[encoded data removed]",
      "text/plain": [
       "<Figure size 720x432 with 1 Axes>"
      ]
     },
     "metadata": {},
     "output_type": "display_data"
    }
   ],
   "source": [
    "plt.figure(figsize=(10,6))\n",
    "sns.countplot(x='Category', data=train, order=train['Category'].value_counts(ascending=True).index)"
   ]
  },
  {
   "cell_type": "markdown",
   "metadata": {},
   "source": [
    "### Bow"
   ]
  },
  {
   "cell_type": "code",
   "execution_count": 116,
   "metadata": {},
   "outputs": [],
   "source": [
    "y_train = one.fit_transform(train['Category'].values.reshape(-1,1))\n",
    "y_test = one.transform(test['Category'].values.reshape(-1,1))"
   ]
  },
  {
   "cell_type": "code",
   "execution_count": 117,
   "metadata": {},
   "outputs": [
    {
     "name": "stdout",
     "output_type": "stream",
     "text": [
      "Epoch 1/10\n",
      "413/413 [==============================] - 5s 4ms/step - loss: 1.4720 - accuracy: 0.7437 - val_loss: 1.2137 - val_accuracy: 0.8261\n",
      "Epoch 2/10\n",
      "413/413 [==============================] - 1s 3ms/step - loss: 1.0900 - accuracy: 0.8624 - val_loss: 1.1431 - val_accuracy: 0.8370\n",
      "Epoch 3/10\n",
      "413/413 [==============================] - 1s 3ms/step - loss: 1.0182 - accuracy: 0.8740 - val_loss: 1.0904 - val_accuracy: 0.8394\n",
      "Epoch 4/10\n",
      "413/413 [==============================] - 1s 3ms/step - loss: 0.9713 - accuracy: 0.8806 - val_loss: 1.0899 - val_accuracy: 0.8357\n",
      "Epoch 5/10\n",
      "413/413 [==============================] - 2s 4ms/step - loss: 0.9384 - accuracy: 0.8843 - val_loss: 1.0651 - val_accuracy: 0.8333\n",
      "Epoch 6/10\n",
      "413/413 [==============================] - 1s 3ms/step - loss: 0.9090 - accuracy: 0.8868 - val_loss: 1.0598 - val_accuracy: 0.8333\n",
      "Epoch 7/10\n",
      "413/413 [==============================] - 1s 3ms/step - loss: 0.8893 - accuracy: 0.8916 - val_loss: 1.0530 - val_accuracy: 0.8285\n",
      "Epoch 8/10\n",
      "413/413 [==============================] - 1s 3ms/step - loss: 0.8726 - accuracy: 0.8925 - val_loss: 1.0641 - val_accuracy: 0.8261\n",
      "Epoch 9/10\n",
      "413/413 [==============================] - 1s 3ms/step - loss: 0.8495 - accuracy: 0.8966 - val_loss: 1.0119 - val_accuracy: 0.8273\n",
      "Epoch 10/10\n",
      "413/413 [==============================] - 1s 3ms/step - loss: 0.8328 - accuracy: 0.8999 - val_loss: 1.0054 - val_accuracy: 0.8225\n",
      " \n",
      "               precision    recall  f1-score   support\n",
      "\n",
      "     business       0.77      0.81      0.79       224\n",
      "entertainment       0.78      0.75      0.76        67\n",
      "       health       0.89      0.72      0.80        97\n",
      "     politics       0.89      0.85      0.87       190\n",
      "       sports       0.88      0.96      0.92       199\n",
      "         tech       0.53      0.53      0.53        51\n",
      "\n",
      "     accuracy                           0.82       828\n",
      "    macro avg       0.79      0.77      0.78       828\n",
      " weighted avg       0.82      0.82      0.82       828\n",
      "\n",
      " \n"
     ]
    },
    {
     "data": {
      "image/png": "[encoded data removed]",
      "text/plain": [
       "<Figure size 864x432 with 1 Axes>"
      ]
     },
     "metadata": {},
     "output_type": "display_data"
    }
   ],
   "source": [
    "nn_vectorizer(CountVectorizer, epochs=10, batch_size=16)"
   ]
  },
  {
   "cell_type": "markdown",
   "metadata": {},
   "source": [
    "### Tfidf"
   ]
  },
  {
   "cell_type": "code",
   "execution_count": 118,
   "metadata": {},
   "outputs": [
    {
     "name": "stdout",
     "output_type": "stream",
     "text": [
      "Epoch 1/10\n",
      "413/413 [==============================] - 2s 3ms/step - loss: 1.8501 - accuracy: 0.4060 - val_loss: 1.6297 - val_accuracy: 0.7476\n",
      "Epoch 2/10\n",
      "413/413 [==============================] - 1s 3ms/step - loss: 1.6561 - accuracy: 0.6803 - val_loss: 1.5107 - val_accuracy: 0.8128\n",
      "Epoch 3/10\n",
      "413/413 [==============================] - 1s 3ms/step - loss: 1.5347 - accuracy: 0.7576 - val_loss: 1.4627 - val_accuracy: 0.8104\n",
      "Epoch 4/10\n",
      "413/413 [==============================] - 1s 3ms/step - loss: 1.4460 - accuracy: 0.8022 - val_loss: 1.3906 - val_accuracy: 0.8273\n",
      "Epoch 5/10\n",
      "413/413 [==============================] - 1s 3ms/step - loss: 1.3772 - accuracy: 0.8254 - val_loss: 1.3368 - val_accuracy: 0.8237\n",
      "Epoch 6/10\n",
      "413/413 [==============================] - 1s 3ms/step - loss: 1.3129 - accuracy: 0.8427 - val_loss: 1.3153 - val_accuracy: 0.8200\n",
      "Epoch 7/10\n",
      "413/413 [==============================] - 1s 3ms/step - loss: 1.2740 - accuracy: 0.8511 - val_loss: 1.3166 - val_accuracy: 0.8176\n",
      "Epoch 8/10\n",
      "413/413 [==============================] - 1s 3ms/step - loss: 1.2322 - accuracy: 0.8668 - val_loss: 1.2637 - val_accuracy: 0.8237\n",
      "Epoch 9/10\n",
      "413/413 [==============================] - 1s 3ms/step - loss: 1.2038 - accuracy: 0.8632 - val_loss: 1.2568 - val_accuracy: 0.8382\n",
      "Epoch 10/10\n",
      "413/413 [==============================] - 1s 3ms/step - loss: 1.1801 - accuracy: 0.8709 - val_loss: 1.2612 - val_accuracy: 0.8140\n",
      " \n",
      "               precision    recall  f1-score   support\n",
      "\n",
      "     business       0.86      0.72      0.79       224\n",
      "entertainment       0.70      0.87      0.77        67\n",
      "       health       0.74      0.80      0.77        97\n",
      "     politics       0.84      0.87      0.85       190\n",
      "       sports       0.91      0.91      0.91       199\n",
      "         tech       0.54      0.57      0.55        51\n",
      "\n",
      "     accuracy                           0.81       828\n",
      "    macro avg       0.76      0.79      0.77       828\n",
      " weighted avg       0.82      0.81      0.81       828\n",
      "\n",
      " \n"
     ]
    },
    {
     "data": {
      "image/png": "[encoded data removed]",
      "text/plain": [
       "<Figure size 864x432 with 1 Axes>"
      ]
     },
     "metadata": {},
     "output_type": "display_data"
    }
   ],
   "source": [
    "nn_vectorizer(TfidfVectorizer, epochs=10, batch_size=16)"
   ]
  },
  {
   "cell_type": "code",
   "execution_count": 121,
   "metadata": {},
   "outputs": [
    {
     "name": "stdout",
     "output_type": "stream",
     "text": [
      "WARNING:tensorflow:Layer lstm_2 will not use cuDNN kernels since it doesn't meet the criteria. It will use a generic GPU kernel as fallback when running on GPU.\n",
      "WARNING:tensorflow:Layer lstm_3 will not use cuDNN kernels since it doesn't meet the criteria. It will use a generic GPU kernel as fallback when running on GPU.\n",
      "Model: \"sequential_4\"\n",
      "_________________________________________________________________\n",
      " Layer (type)                Output Shape              Param #   \n",
      "=================================================================\n",
      " text_vectorization_1 (TextV  (None, 85)               0         \n",
      " ectorization)                                                   \n",
      "                                                                 \n",
      " embedding_1 (Embedding)     (None, 85, 32)            333792    \n",
      "                                                                 \n",
      " lstm_2 (LSTM)               (None, 85, 16)            3136      \n",
      "                                                                 \n",
      " lstm_3 (LSTM)               (None, 8)                 800       \n",
      "                                                                 \n",
      " dense_10 (Dense)            (None, 6)                 54        \n",
      "                                                                 \n",
      "=================================================================\n",
      "Total params: 337,782\n",
      "Trainable params: 337,782\n",
      "Non-trainable params: 0\n",
      "_________________________________________________________________\n",
      "Epoch 1/10\n",
      "104/104 [==============================] - 46s 427ms/step - loss: 2.0876 - accuracy: 0.3169 - val_loss: 1.6530 - val_accuracy: 0.5640\n",
      "Epoch 2/10\n",
      "104/104 [==============================] - 44s 419ms/step - loss: 1.1402 - accuracy: 0.6696 - val_loss: 1.1740 - val_accuracy: 0.7126\n",
      "Epoch 3/10\n",
      "104/104 [==============================] - 43s 415ms/step - loss: 0.6562 - accuracy: 0.8530 - val_loss: 1.3211 - val_accuracy: 0.7271\n",
      "Epoch 4/10\n",
      "104/104 [==============================] - 44s 423ms/step - loss: 0.4715 - accuracy: 0.9155 - val_loss: 1.1476 - val_accuracy: 0.7428\n",
      "Epoch 5/10\n",
      "104/104 [==============================] - 43s 410ms/step - loss: 0.3513 - accuracy: 0.9407 - val_loss: 1.4644 - val_accuracy: 0.7367\n",
      "Epoch 6/10\n",
      "104/104 [==============================] - 42s 407ms/step - loss: 0.3107 - accuracy: 0.9481 - val_loss: 1.8481 - val_accuracy: 0.7415\n",
      "Epoch 7/10\n",
      "104/104 [==============================] - 44s 427ms/step - loss: 0.2637 - accuracy: 0.9574 - val_loss: 1.7426 - val_accuracy: 0.7331\n",
      "Epoch 8/10\n",
      "104/104 [==============================] - 46s 443ms/step - loss: 0.2366 - accuracy: 0.9607 - val_loss: 1.9278 - val_accuracy: 0.7464\n",
      "Epoch 9/10\n",
      "104/104 [==============================] - 44s 419ms/step - loss: 0.2115 - accuracy: 0.9660 - val_loss: 1.9809 - val_accuracy: 0.7536\n",
      "Epoch 10/10\n",
      "104/104 [==============================] - 44s 422ms/step - loss: 0.1931 - accuracy: 0.9678 - val_loss: 2.2588 - val_accuracy: 0.7476\n",
      " \n",
      "               precision    recall  f1-score   support\n",
      "\n",
      "     business       0.67      0.79      0.72       224\n",
      "entertainment       0.72      0.58      0.64        67\n",
      "       health       0.61      0.71      0.66        97\n",
      "     politics       0.81      0.76      0.79       190\n",
      "       sports       0.96      0.87      0.91       199\n",
      "         tech       0.44      0.33      0.38        51\n",
      "\n",
      "     accuracy                           0.75       828\n",
      "    macro avg       0.70      0.67      0.68       828\n",
      " weighted avg       0.75      0.75      0.75       828\n",
      "\n",
      " \n"
     ]
    },
    {
     "data": {
      "image/png": "[encoded data removed]",
      "text/plain": [
       "<Figure size 864x432 with 1 Axes>"
      ]
     },
     "metadata": {},
     "output_type": "display_data"
    }
   ],
   "source": [
    "nn_vectorizer(embeddings=True, epochs=10, batch_size=64)"
   ]
  }
 ],
 "metadata": {
  "colab": {
   "collapsed_sections": [],
   "provenance": []
  },
  "kernelspec": {
   "display_name": "Python 3 (ipykernel)",
   "language": "python",
   "name": "python3"
  },
  "language_info": {
   "codemirror_mode": {
    "name": "ipython",
    "version": 3
   },
   "file_extension": ".py",
   "mimetype": "text/x-python",
   "name": "python",
   "nbconvert_exporter": "python",
   "pygments_lexer": "ipython3",
   "version": "3.9.7"
  },
  "widgets": {
   "application/vnd.jupyter.widget-state+json": {
    "1c88aad67aed433c899e6c826f8125d5": {
     "model_module": "@jupyter-widgets/base",
     "model_module_version": "1.2.0",
     "model_name": "LayoutModel",
     "state": {
      "_model_module": "@jupyter-widgets/base",
      "_model_module_version": "1.2.0",
      "_model_name": "LayoutModel",
      "_view_count": null,
      "_view_module": "@jupyter-widgets/base",
      "_view_module_version": "1.2.0",
      "_view_name": "LayoutView",
      "align_content": null,
      "align_items": null,
      "align_self": null,
      "border": null,
      "bottom": null,
      "display": null,
      "flex": null,
      "flex_flow": null,
      "grid_area": null,
      "grid_auto_columns": null,
      "grid_auto_flow": null,
      "grid_auto_rows": null,
      "grid_column": null,
      "grid_gap": null,
      "grid_row": null,
      "grid_template_areas": null,
      "grid_template_columns": null,
      "grid_template_rows": null,
      "height": null,
      "justify_content": null,
      "justify_items": null,
      "left": null,
      "margin": null,
      "max_height": null,
      "max_width": null,
      "min_height": null,
      "min_width": null,
      "object_fit": null,
      "object_position": null,
      "order": null,
      "overflow": null,
      "overflow_x": null,
      "overflow_y": null,
      "padding": null,
      "right": null,
      "top": null,
      "visibility": null,
      "width": null
     }
    },
    "3af71ed9e98b43259d028cbf3419581a": {
     "model_module": "@jupyter-widgets/controls",
     "model_module_version": "1.5.0",
     "model_name": "FloatProgressModel",
     "state": {
      "_dom_classes": [],
      "_model_module": "@jupyter-widgets/controls",
      "_model_module_version": "1.5.0",
      "_model_name": "FloatProgressModel",
      "_view_count": null,
      "_view_module": "@jupyter-widgets/controls",
      "_view_module_version": "1.5.0",
      "_view_name": "ProgressView",
      "bar_style": "success",
      "description": "",
      "description_tooltip": null,
      "layout": "IPY_MODEL_1c88aad67aed433c899e6c826f8125d5",
      "max": 2,
      "min": 0,
      "orientation": "horizontal",
      "style": "IPY_MODEL_a7f2cb1a79174247b7be6fa5dafd3568",
      "value": 2
     }
    },
    "3dfaaff783134b58a4ebf693626e0078": {
     "model_module": "@jupyter-widgets/controls",
     "model_module_version": "1.5.0",
     "model_name": "HTMLModel",
     "state": {
      "_dom_classes": [],
      "_model_module": "@jupyter-widgets/controls",
      "_model_module_version": "1.5.0",
      "_model_name": "HTMLModel",
      "_view_count": null,
      "_view_module": "@jupyter-widgets/controls",
      "_view_module_version": "1.5.0",
      "_view_name": "HTMLView",
      "description": "",
      "description_tooltip": null,
      "layout": "IPY_MODEL_4a5d4cb8afeb4243b7c0ae141a8584b1",
      "placeholder": "​",
      "style": "IPY_MODEL_f05717af13d7406199bb67ae02ca7d03",
      "value": "100%"
     }
    },
    "4a5d4cb8afeb4243b7c0ae141a8584b1": {
     "model_module": "@jupyter-widgets/base",
     "model_module_version": "1.2.0",
     "model_name": "LayoutModel",
     "state": {
      "_model_module": "@jupyter-widgets/base",
      "_model_module_version": "1.2.0",
      "_model_name": "LayoutModel",
      "_view_count": null,
      "_view_module": "@jupyter-widgets/base",
      "_view_module_version": "1.2.0",
      "_view_name": "LayoutView",
      "align_content": null,
      "align_items": null,
      "align_self": null,
      "border": null,
      "bottom": null,
      "display": null,
      "flex": null,
      "flex_flow": null,
      "grid_area": null,
      "grid_auto_columns": null,
      "grid_auto_flow": null,
      "grid_auto_rows": null,
      "grid_column": null,
      "grid_gap": null,
      "grid_row": null,
      "grid_template_areas": null,
      "grid_template_columns": null,
      "grid_template_rows": null,
      "height": null,
      "justify_content": null,
      "justify_items": null,
      "left": null,
      "margin": null,
      "max_height": null,
      "max_width": null,
      "min_height": null,
      "min_width": null,
      "object_fit": null,
      "object_position": null,
      "order": null,
      "overflow": null,
      "overflow_x": null,
      "overflow_y": null,
      "padding": null,
      "right": null,
      "top": null,
      "visibility": null,
      "width": null
     }
    },
    "4abc41eea9fc4a78807f37eb895c4542": {
     "model_module": "@jupyter-widgets/controls",
     "model_module_version": "1.5.0",
     "model_name": "DescriptionStyleModel",
     "state": {
      "_model_module": "@jupyter-widgets/controls",
      "_model_module_version": "1.5.0",
      "_model_name": "DescriptionStyleModel",
      "_view_count": null,
      "_view_module": "@jupyter-widgets/base",
      "_view_module_version": "1.2.0",
      "_view_name": "StyleView",
      "description_width": ""
     }
    },
    "536a1f1db24a4f469502ae4e4d7fb402": {
     "model_module": "@jupyter-widgets/controls",
     "model_module_version": "1.5.0",
     "model_name": "HTMLModel",
     "state": {
      "_dom_classes": [],
      "_model_module": "@jupyter-widgets/controls",
      "_model_module_version": "1.5.0",
      "_model_name": "HTMLModel",
      "_view_count": null,
      "_view_module": "@jupyter-widgets/controls",
      "_view_module_version": "1.5.0",
      "_view_name": "HTMLView",
      "description": "",
      "description_tooltip": null,
      "layout": "IPY_MODEL_f30df343a01743a08d5e7993e2ccb1ee",
      "placeholder": "​",
      "style": "IPY_MODEL_4abc41eea9fc4a78807f37eb895c4542",
      "value": " 2/2 [00:00&lt;00:00, 33.12it/s]"
     }
    },
    "83dbb782a6eb474c875d3dd129914c98": {
     "model_module": "@jupyter-widgets/base",
     "model_module_version": "1.2.0",
     "model_name": "LayoutModel",
     "state": {
      "_model_module": "@jupyter-widgets/base",
      "_model_module_version": "1.2.0",
      "_model_name": "LayoutModel",
      "_view_count": null,
      "_view_module": "@jupyter-widgets/base",
      "_view_module_version": "1.2.0",
      "_view_name": "LayoutView",
      "align_content": null,
      "align_items": null,
      "align_self": null,
      "border": null,
      "bottom": null,
      "display": null,
      "flex": null,
      "flex_flow": null,
      "grid_area": null,
      "grid_auto_columns": null,
      "grid_auto_flow": null,
      "grid_auto_rows": null,
      "grid_column": null,
      "grid_gap": null,
      "grid_row": null,
      "grid_template_areas": null,
      "grid_template_columns": null,
      "grid_template_rows": null,
      "height": null,
      "justify_content": null,
      "justify_items": null,
      "left": null,
      "margin": null,
      "max_height": null,
      "max_width": null,
      "min_height": null,
      "min_width": null,
      "object_fit": null,
      "object_position": null,
      "order": null,
      "overflow": null,
      "overflow_x": null,
      "overflow_y": null,
      "padding": null,
      "right": null,
      "top": null,
      "visibility": null,
      "width": null
     }
    },
    "a7f2cb1a79174247b7be6fa5dafd3568": {
     "model_module": "@jupyter-widgets/controls",
     "model_module_version": "1.5.0",
     "model_name": "ProgressStyleModel",
     "state": {
      "_model_module": "@jupyter-widgets/controls",
      "_model_module_version": "1.5.0",
      "_model_name": "ProgressStyleModel",
      "_view_count": null,
      "_view_module": "@jupyter-widgets/base",
      "_view_module_version": "1.2.0",
      "_view_name": "StyleView",
      "bar_color": null,
      "description_width": ""
     }
    },
    "f05717af13d7406199bb67ae02ca7d03": {
     "model_module": "@jupyter-widgets/controls",
     "model_module_version": "1.5.0",
     "model_name": "DescriptionStyleModel",
     "state": {
      "_model_module": "@jupyter-widgets/controls",
      "_model_module_version": "1.5.0",
      "_model_name": "DescriptionStyleModel",
      "_view_count": null,
      "_view_module": "@jupyter-widgets/base",
      "_view_module_version": "1.2.0",
      "_view_name": "StyleView",
      "description_width": ""
     }
    },
    "f30df343a01743a08d5e7993e2ccb1ee": {
     "model_module": "@jupyter-widgets/base",
     "model_module_version": "1.2.0",
     "model_name": "LayoutModel",
     "state": {
      "_model_module": "@jupyter-widgets/base",
      "_model_module_version": "1.2.0",
      "_model_name": "LayoutModel",
      "_view_count": null,
      "_view_module": "@jupyter-widgets/base",
      "_view_module_version": "1.2.0",
      "_view_name": "LayoutView",
      "align_content": null,
      "align_items": null,
      "align_self": null,
      "border": null,
      "bottom": null,
      "display": null,
      "flex": null,
      "flex_flow": null,
      "grid_area": null,
      "grid_auto_columns": null,
      "grid_auto_flow": null,
      "grid_auto_rows": null,
      "grid_column": null,
      "grid_gap": null,
      "grid_row": null,
      "grid_template_areas": null,
      "grid_template_columns": null,
      "grid_template_rows": null,
      "height": null,
      "justify_content": null,
      "justify_items": null,
      "left": null,
      "margin": null,
      "max_height": null,
      "max_width": null,
      "min_height": null,
      "min_width": null,
      "object_fit": null,
      "object_position": null,
      "order": null,
      "overflow": null,
      "overflow_x": null,
      "overflow_y": null,
      "padding": null,
      "right": null,
      "top": null,
      "visibility": null,
      "width": null
     }
    },
    "fe128e9d87c74a4aaa93dad38fc62bd6": {
     "model_module": "@jupyter-widgets/controls",
     "model_module_version": "1.5.0",
     "model_name": "HBoxModel",
     "state": {
      "_dom_classes": [],
      "_model_module": "@jupyter-widgets/controls",
      "_model_module_version": "1.5.0",
      "_model_name": "HBoxModel",
      "_view_count": null,
      "_view_module": "@jupyter-widgets/controls",
      "_view_module_version": "1.5.0",
      "_view_name": "HBoxView",
      "box_style": "",
      "children": [
       "IPY_MODEL_3dfaaff783134b58a4ebf693626e0078",
       "IPY_MODEL_3af71ed9e98b43259d028cbf3419581a",
       "IPY_MODEL_536a1f1db24a4f469502ae4e4d7fb402"
      ],
      "layout": "IPY_MODEL_83dbb782a6eb474c875d3dd129914c98"
     }
    }
   }
  }
 },
 "nbformat": 4,
 "nbformat_minor": 1
}
