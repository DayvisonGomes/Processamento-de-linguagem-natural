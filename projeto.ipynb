{
 "cells": [
  {
   "cell_type": "code",
   "execution_count": 2,
   "id": "NTDVPMBBI5mL",
   "metadata": {
    "id": "NTDVPMBBI5mL"
   },
   "outputs": [],
   "source": [
    "# !pip install pytube\n",
    "# !pip install pydub\n",
    "# !pip install SpeechRecognition\n",
    "# !pip install imageio==2.4.1      rodar esses comandos pip para instalar as bibliotecas usadas\n",
    "# !pip install transformers\n",
    "# !pip install kaggle\n",
    "# !mkdir audio            #rodar para criar pasta no google colab, no jupyter não é necessário\n",
    "# !mkdir audio_dividido\n",
    "# !mkdir Dataset"
   ]
  },
  {
   "cell_type": "code",
   "execution_count": null,
   "id": "bvEMBg4-Ckv4",
   "metadata": {
    "id": "bvEMBg4-Ckv4"
   },
   "outputs": [],
   "source": [
    "# from google.colab import files\n",
    "# files.upload() \n",
    "                            # Não é necessário rodar pois ja baixamos os dados e baixamos o csv para depois dar load\n",
    "# !pip install -q kaggle\n",
    "# !mkdir -p ~/.kaggle\n",
    "# !cp kaggle.json ~/.kaggle/\n",
    "# !ls ~/.kaggle\n",
    "# !chmod 600 /root/.kaggle/kaggle.json\n",
    "# !kaggle datasets download -d najzeko/steam-reviews-2021 -p ./Dataset\n",
    "# !unzip ./Dataset/steam-reviews-2021.zip\n",
    "# !rm -r ./Dataset/steam-reviews-2021.zip"
   ]
  },
  {
   "cell_type": "code",
   "execution_count": 2,
   "id": "789247bc",
   "metadata": {
    "colab": {
     "base_uri": "https://localhost:8080/"
    },
    "id": "789247bc",
    "outputId": "ac239580-3295-4275-b151-604336825435"
   },
   "outputs": [],
   "source": [
    "import speech_recognition as sr\n",
    "import moviepy.editor as mp\n",
    "import pandas as pd\n",
    "import numpy as np\n",
    "import nltk\n",
    "import seaborn as sns\n",
    "import sys\n",
    "import pydub\n",
    "import re\n",
    "import os\n",
    "\n",
    "from IPython.display import clear_output\n",
    "from IPython.core.display import HTML\n",
    "from pytube import YouTube\n",
    "from pydub.utils import make_chunks\n",
    "from tensorflow import keras\n",
    "from sklearn.preprocessing import OneHotEncoder\n",
    "from matplotlib import pyplot as plt\n",
    "from sklearn.metrics import classification_report\n",
    "from nltk.corpus import wordnet\n",
    "from imblearn.under_sampling import RandomUnderSampler\n",
    "from sklearn.model_selection import train_test_split"
   ]
  },
  {
   "cell_type": "code",
   "execution_count": 2,
   "id": "1VHMJ4JxNjbw",
   "metadata": {
    "id": "1VHMJ4JxNjbw"
   },
   "outputs": [],
   "source": [
    "# from google.colab import drive\n",
    "\n",
    "# drive.mount('/content/drive')"
   ]
  },
  {
   "cell_type": "markdown",
   "id": "uoBxCbGzkhiT",
   "metadata": {
    "id": "uoBxCbGzkhiT"
   },
   "source": [
    "Professor, vou colocar comentários para que o senhor rode a célula"
   ]
  },
  {
   "cell_type": "code",
   "execution_count": 3,
   "id": "F3DoTa2a6Pv2",
   "metadata": {
    "colab": {
     "base_uri": "https://localhost:8080/"
    },
    "id": "F3DoTa2a6Pv2",
    "outputId": "495bc7e3-f92d-46e2-9998-ece157108a27"
   },
   "outputs": [
    {
     "name": "stderr",
     "output_type": "stream",
     "text": [
      "[nltk_data] Downloading package stopwords to\n",
      "[nltk_data]     C:\\Users\\Dayvison\\AppData\\Roaming\\nltk_data...\n",
      "[nltk_data]   Package stopwords is already up-to-date!\n"
     ]
    },
    {
     "data": {
      "text/plain": [
       "True"
      ]
     },
     "execution_count": 3,
     "metadata": {},
     "output_type": "execute_result"
    }
   ],
   "source": [
    "nltk.download('stopwords') # rodar"
   ]
  },
  {
   "cell_type": "code",
   "execution_count": 4,
   "id": "7b6f02d5",
   "metadata": {
    "id": "7b6f02d5"
   },
   "outputs": [],
   "source": [
    "def download_audio(link, path_download): # rodar\n",
    "    \n",
    "    yt = YouTube(link)\n",
    "    ys = yt.streams.filter(only_audio=True).first().download(path_download)\n",
    "    \n",
    "    for file in os.listdir(path_download):         \n",
    "        if re.search('mp4', file):                                    \n",
    "            mp4_path = os.path.join(path_download , file)   \n",
    "            name_video = os.path.splitext(file)[0]\n",
    "            mp3_path = os.path.join(path_download, os.path.splitext(file)[0]+'.mp3')\n",
    "            \n",
    "            new_file = mp.AudioFileClip(mp4_path) \n",
    "            new_file.write_audiofile(mp3_path) \n",
    "            os.remove(mp4_path)                    \n",
    "    \n",
    "#     print(\"Download Completo\")\n",
    "    return name_video"
   ]
  },
  {
   "cell_type": "code",
   "execution_count": null,
   "id": "1621d7dd",
   "metadata": {
    "colab": {
     "base_uri": "https://localhost:8080/"
    },
    "id": "1621d7dd",
    "outputId": "3e1bf1f8-1b24-4be5-8025-fea9a4240634"
   },
   "outputs": [
    {
     "name": "stdout",
     "output_type": "stream",
     "text": [
      "[MoviePy] Writing audio in ./audio/Batman Arkham Knight FINAL 100  COMPLETO PROTOCOLO KNIGHTFALL EM PORTUGUÊS.mp3\n"
     ]
    },
    {
     "name": "stderr",
     "output_type": "stream",
     "text": [
      "100%|██████████| 8232/8232 [00:13<00:00, 620.37it/s]"
     ]
    },
    {
     "name": "stdout",
     "output_type": "stream",
     "text": [
      "[MoviePy] Done.\n"
     ]
    },
    {
     "name": "stderr",
     "output_type": "stream",
     "text": [
      "\n"
     ]
    }
   ],
   "source": [
    "name_audio = download_audio('https://www.youtube.com/watch?v=FUcSmOBAJHA', './audio/')"
   ]
  },
  {
   "cell_type": "code",
   "execution_count": 5,
   "id": "98724aa3",
   "metadata": {
    "id": "98724aa3"
   },
   "outputs": [],
   "source": [
    "def convert_and_divide(name_audio, gradio=False, tam=30000): # rodar\n",
    "    \n",
    "    if gradio:\n",
    "        \n",
    "        audio_mp3 = name_audio + '.mp3'\n",
    "        audio_wav = name_audio + '.wav'\n",
    "    \n",
    "    else:\n",
    "        audio_mp3 = './audio/' + name_audio + '.mp3'\n",
    "        audio_wav = './audio/' + name_audio + '.wav'\n",
    "\n",
    "    sound = pydub.AudioSegment.from_mp3(audio_mp3)\n",
    "    sound.export(audio_wav, format='wav')\n",
    "\n",
    "    audio = pydub.AudioSegment.from_file(audio_wav, 'wav')\n",
    "    tamanho = tam\n",
    "\n",
    "    partes = make_chunks(audio, tamanho) \n",
    "    partes_audio = []\n",
    "\n",
    "    for i, parte in enumerate(partes):\n",
    "\n",
    "        parte_name = 'audio_parte{0}.wav'.format(i)\n",
    "        partes_audio.append('./audio_dividido/' + parte_name)\n",
    "        parte.export('./audio_dividido/' + parte_name, format='wav')\n",
    "        \n",
    "    return partes_audio\n"
   ]
  },
  {
   "cell_type": "code",
   "execution_count": 6,
   "id": "e2f1af4a",
   "metadata": {
    "id": "e2f1af4a"
   },
   "outputs": [],
   "source": [
    "def transcreve_audio(nome_audio): # rodar\n",
    "    r = sr.Recognizer()\n",
    "    \n",
    "    with sr.AudioFile(nome_audio) as source:\n",
    "        audio = r.record(source)      \n",
    "        try:\n",
    "            texto = r.recognize_google(audio, language='pt-BR')\n",
    "        except sr.UnknownValueError:\n",
    "            print('Fala direito')\n",
    "            texto = 'vazio '\n",
    "        except sr.RequestError as e:\n",
    "            print('Erro ao solicitar resultados do serviço Google Speech Recognition; {0}'.format(e))\n",
    "            texto = 'vazio '\n",
    "            \n",
    "    return texto"
   ]
  },
  {
   "cell_type": "code",
   "execution_count": null,
   "id": "3ed3f3b8",
   "metadata": {
    "id": "3ed3f3b8"
   },
   "outputs": [],
   "source": [
    "texto = ''\n",
    "frases = []\n",
    "partes_audio = convert_and_divide(name_audio, 30000)\n",
    "\n",
    "for parte in partes_audio:\n",
    "    transcrito = transcreve_audio(parte)\n",
    "    frases.append(transcrito)\n",
    "    texto = texto + ' ' + transcrito"
   ]
  },
  {
   "cell_type": "markdown",
   "id": "K19RivLp3U9e",
   "metadata": {
    "id": "K19RivLp3U9e"
   },
   "source": [
    "### Modelo do Zero"
   ]
  },
  {
   "cell_type": "markdown",
   "id": "9nwL5YZE4mEP",
   "metadata": {
    "id": "9nwL5YZE4mEP"
   },
   "source": [
    "#### Pré-Processamento"
   ]
  },
  {
   "cell_type": "code",
   "execution_count": 7,
   "id": "P5Gop4tN5xzp",
   "metadata": {
    "id": "P5Gop4tN5xzp"
   },
   "outputs": [],
   "source": [
    "# frases_audio = pd.DataFrame(data={'Frases':frases, 'Sentimento':[0 for i in range(len(frases))]})\n",
    "frases_audio = pd.read_csv('frases_audio.csv')"
   ]
  },
  {
   "cell_type": "code",
   "execution_count": null,
   "id": "7cg1Wql2ErX5",
   "metadata": {
    "id": "7cg1Wql2ErX5"
   },
   "outputs": [],
   "source": [
    "df = pd.read_csv('./Dataset/steam_reviews.csv', nrows=10000000)"
   ]
  },
  {
   "cell_type": "code",
   "execution_count": null,
   "id": "eMjPtkfOEyCI",
   "metadata": {
    "id": "eMjPtkfOEyCI"
   },
   "outputs": [],
   "source": [
    "df_ = df[(df['language'] == 'portuguese') | (df['language'] == 'brazilian')]"
   ]
  },
  {
   "cell_type": "code",
   "execution_count": null,
   "id": "S9Lr5lz5FYMJ",
   "metadata": {
    "id": "S9Lr5lz5FYMJ"
   },
   "outputs": [],
   "source": [
    "df_filter = df_[['review','recommended']]"
   ]
  },
  {
   "cell_type": "code",
   "execution_count": null,
   "id": "qTexundsFfGw",
   "metadata": {
    "id": "qTexundsFfGw"
   },
   "outputs": [],
   "source": [
    "df_filter['recommended'] = df_filter['recommended'].apply(lambda x: 1 if x else 0)"
   ]
  },
  {
   "cell_type": "code",
   "execution_count": null,
   "id": "pkKSJK08GG0o",
   "metadata": {
    "id": "pkKSJK08GG0o"
   },
   "outputs": [],
   "source": [
    "df_filter['recommended'].value_counts()"
   ]
  },
  {
   "cell_type": "code",
   "execution_count": null,
   "id": "fVggJiZPHU5p",
   "metadata": {
    "id": "fVggJiZPHU5p"
   },
   "outputs": [],
   "source": [
    "under_sampling = RandomUnderSampler(random_state=42)\n",
    "X = df_filter['review'].values.reshape(-1,1)\n",
    "y = df_filter['recommended'].values.reshape(-1,1)\n",
    "X_resampled, y_resampled = under_sampling.fit_resample(X, y)"
   ]
  },
  {
   "cell_type": "code",
   "execution_count": null,
   "id": "1cj0BviWH9iZ",
   "metadata": {
    "id": "1cj0BviWH9iZ"
   },
   "outputs": [],
   "source": [
    "df_resampled = pd.DataFrame(data={'Frases':X_resampled.ravel(), 'Sentiment': y_resampled})"
   ]
  },
  {
   "cell_type": "code",
   "execution_count": null,
   "id": "W28_Y5niJAL4",
   "metadata": {
    "id": "W28_Y5niJAL4"
   },
   "outputs": [],
   "source": [
    "frases_remove = []\n",
    "\n",
    "for frase in df_resampled['Frases']:\n",
    "  try:\n",
    "\n",
    "    if len(frase) <= 2:\n",
    "      frases_remove.append(frase)\n",
    "\n",
    "  except:\n",
    "      frases_remove.append(frase)"
   ]
  },
  {
   "cell_type": "code",
   "execution_count": null,
   "id": "dzNaRlEOQIHp",
   "metadata": {
    "id": "dzNaRlEOQIHp"
   },
   "outputs": [],
   "source": [
    "frases_remove = np.unique(frases_remove)"
   ]
  },
  {
   "cell_type": "code",
   "execution_count": null,
   "id": "bH6pfrPGQngx",
   "metadata": {
    "id": "bH6pfrPGQngx"
   },
   "outputs": [],
   "source": [
    "index = []\n",
    "\n",
    "for frase in frases_remove:\n",
    "  filtro = df_resampled[df_resampled['Frases'] == frase].index.to_list()\n",
    "  index.extend(filtro)"
   ]
  },
  {
   "cell_type": "code",
   "execution_count": null,
   "id": "zo68eSl4REnB",
   "metadata": {
    "id": "zo68eSl4REnB"
   },
   "outputs": [],
   "source": [
    "df_resampled = df_resampled.drop(index)"
   ]
  },
  {
   "cell_type": "code",
   "execution_count": null,
   "id": "wRv4DSRURkNq",
   "metadata": {
    "id": "wRv4DSRURkNq"
   },
   "outputs": [],
   "source": [
    "df_resampled = df_resampled.dropna(subset=['Frases']).reset_index().drop(columns=['index'])"
   ]
  },
  {
   "cell_type": "code",
   "execution_count": null,
   "id": "pfzlISXmUmGy",
   "metadata": {
    "id": "pfzlISXmUmGy"
   },
   "outputs": [],
   "source": [
    "del df"
   ]
  },
  {
   "cell_type": "code",
   "execution_count": null,
   "id": "bO02NIEFU9CJ",
   "metadata": {
    "id": "bO02NIEFU9CJ"
   },
   "outputs": [],
   "source": [
    "# df_resampled.to_csv('reviews_filtro.csv')"
   ]
  },
  {
   "cell_type": "code",
   "execution_count": 7,
   "id": "nwFL2EVOWV-J",
   "metadata": {
    "id": "nwFL2EVOWV-J"
   },
   "outputs": [],
   "source": [
    "df_resampled = pd.read_csv('reviews_filtro.csv') #rodar"
   ]
  },
  {
   "cell_type": "code",
   "execution_count": 8,
   "id": "YpE8R5366MHR",
   "metadata": {
    "id": "YpE8R5366MHR"
   },
   "outputs": [],
   "source": [
    "stop_words = nltk.corpus.stopwords.words('portuguese') #rodar"
   ]
  },
  {
   "cell_type": "code",
   "execution_count": 9,
   "id": "J22F4r3X3Yi3",
   "metadata": {
    "id": "J22F4r3X3Yi3"
   },
   "outputs": [],
   "source": [
    "def get_only_chars(line): # rodar\n",
    "\n",
    "    clean_line = \"\"\n",
    "    \n",
    "    line = line.replace(\"’\", \"\")\n",
    "    line = line.replace(\"'\", \"\")\n",
    "    line = line.replace(\"-\", \" \") \n",
    "    line = line.replace(\"\\t\", \" \")\n",
    "    line = line.replace(\"\\n\", \" \")\n",
    "    line = line.lower()\n",
    "\n",
    "    for char in line:\n",
    "        if char in 'qwertyuiopasdfghjklzxcvbnm ':\n",
    "            clean_line += char\n",
    "        else:\n",
    "            clean_line += ' '\n",
    "\n",
    "    clean_line = re.sub(' +',' ',clean_line)\n",
    "    \n",
    "    if clean_line[0] == ' ':\n",
    "        clean_line = clean_line[1:]\n",
    "\n",
    "    return clean_line\n",
    "\n",
    "def get_vocab(corpus):\n",
    "    vocab = []\n",
    "    \n",
    "    for frase in corpus:\n",
    "        words = frase.split()\n",
    "        \n",
    "        for word in words:\n",
    "            vocab.append(word)\n",
    "  \n",
    "    return vocab"
   ]
  },
  {
   "cell_type": "code",
   "execution_count": 10,
   "id": "lqcACORpVQ3y",
   "metadata": {
    "id": "lqcACORpVQ3y"
   },
   "outputs": [],
   "source": [
    "#rodar\n",
    "\n",
    "# frases_audio['Frases'] = frases_audio['Frases'].apply(lambda x: get_only_chars(x))\n",
    "# frases_audio['Frases'] = frases_audio['Frases'].apply(lambda x: \" \".join([y for y in x.split() if y not in stop_words]  ))\n",
    "\n",
    "df_resampled['Frases'] = df_resampled['Frases'].apply(lambda x: get_only_chars(x))\n",
    "df_resampled['Frases'] = df_resampled['Frases'].apply(lambda x: \" \".join([y for y in x.split() if y not in stop_words]  ))"
   ]
  },
  {
   "cell_type": "code",
   "execution_count": 11,
   "id": "28_K_jLe65h4",
   "metadata": {
    "id": "28_K_jLe65h4"
   },
   "outputs": [],
   "source": [
    "#rodar\n",
    "X_train, X_test, y_train, y_test = train_test_split(df_resampled['Frases'], df_resampled['Sentiment'], random_state=42, test_size=0.3)"
   ]
  },
  {
   "cell_type": "code",
   "execution_count": null,
   "id": "BY5JTviM7qHI",
   "metadata": {
    "id": "BY5JTviM7qHI"
   },
   "outputs": [],
   "source": [
    "vectorize_layer = keras.layers.TextVectorization(max_tokens=15000, output_mode='int', output_sequence_length=len(max(X_train)))\n",
    "vocab = get_vocab(X_train)\n",
    "vectorize_layer.adapt(np.unique(vocab)) \n",
    "\n",
    "model = keras.models.Sequential([\n",
    "    vectorize_layer,\n",
    "    keras.layers.Embedding(input_dim=len(vectorize_layer.get_vocabulary()), output_dim=32),\n",
    "    keras.layers.LSTM(16, activation='relu',kernel_regularizer=keras.regularizers.L2(0.01), return_sequences=True),\n",
    "    keras.layers.LSTM(8, activation='relu', kernel_regularizer=keras.regularizers.L2(0.01)),\n",
    "    \n",
    "    keras.layers.Dense(1, activation='sigmoid')\n",
    "])\n",
    "  \n",
    "model.compile(loss=\"binary_crossentropy\", optimizer='adam', metrics=['accuracy'])\n",
    "history = model.fit(X_train, y_train, epochs=10, batch_size=16, validation_data=(X_test, y_test))\n",
    "\n",
    "y_pred = model.predict(X_test)\n",
    "y_pred = np.where(y_pred >= 0.5, 1, 0)\n",
    "\n",
    "print(\" \")\n",
    "print(classification_report(y_test, y_pred) )\n",
    "print(\" \")\n",
    "\n",
    "plt.figure(figsize=(12,6))\n",
    "plt.title('Loss and Acc')\n",
    "plt.grid()\n",
    "plt.plot(history.history['loss'], color='darkred', label='Loss')\n",
    "plt.plot(history.history['val_loss'], color='green', label='Val_Loss')\n",
    "plt.legend()"
   ]
  },
  {
   "cell_type": "markdown",
   "id": "d7baad66",
   "metadata": {
    "id": "d7baad66"
   },
   "source": [
    "Salvando o modelo"
   ]
  },
  {
   "cell_type": "code",
   "execution_count": 12,
   "id": "294bff56",
   "metadata": {
    "colab": {
     "base_uri": "https://localhost:8080/"
    },
    "id": "294bff56",
    "outputId": "85265945-088e-46ab-9206-5b7cea6bc2cb"
   },
   "outputs": [],
   "source": [
    "#model.save('model') # rodar\n",
    "loaded_model = keras.models.load_model('model', custom_objects={'LSTMCell': keras.layers.LSTM})\n",
    "\n",
    "y_preds = loaded_model.predict(X_test)\n",
    "y_preds = np.where(y_preds >= 0.5, 1, 0)"
   ]
  },
  {
   "cell_type": "code",
   "execution_count": 13,
   "id": "GH_cbRS1PZsA",
   "metadata": {
    "colab": {
     "base_uri": "https://localhost:8080/"
    },
    "id": "GH_cbRS1PZsA",
    "outputId": "ea549385-3c8d-499c-a2ed-55d4d894fa2b"
   },
   "outputs": [
    {
     "name": "stdout",
     "output_type": "stream",
     "text": [
      "              precision    recall  f1-score   support\n",
      "\n",
      "           0       0.87      0.47      0.61      2453\n",
      "           1       0.64      0.93      0.76      2450\n",
      "\n",
      "    accuracy                           0.70      4903\n",
      "   macro avg       0.76      0.70      0.69      4903\n",
      "weighted avg       0.76      0.70      0.69      4903\n",
      "\n"
     ]
    }
   ],
   "source": [
    "print(classification_report(y_test, y_preds)) # rodar"
   ]
  },
  {
   "cell_type": "code",
   "execution_count": null,
   "id": "e6117b8a",
   "metadata": {
    "colab": {
     "base_uri": "https://localhost:8080/"
    },
    "id": "e6117b8a",
    "outputId": "f0c5eaa8-0a0c-4856-faef-48557c4d2cc4"
   },
   "outputs": [
    {
     "name": "stdout",
     "output_type": "stream",
     "text": [
      "1/1 [==============================] - 0s 92ms/step\n"
     ]
    }
   ],
   "source": [
    "frases_audio['Sentimento'] = loaded_model.predict(frases_audio['Frases'])"
   ]
  },
  {
   "cell_type": "code",
   "execution_count": null,
   "id": "cef67cda",
   "metadata": {
    "id": "cef67cda"
   },
   "outputs": [],
   "source": [
    "frases_audio['Sentimento'] = frases_audio['Sentimento'].apply(lambda x: 1 if x >= 0.5 else 0)"
   ]
  },
  {
   "cell_type": "markdown",
   "id": "qeWMNh-n23L_",
   "metadata": {
    "id": "qeWMNh-n23L_"
   },
   "source": [
    "### Modelo Pré-Treinado - Bônus"
   ]
  },
  {
   "cell_type": "code",
   "execution_count": 14,
   "id": "P3P18J0N22hv",
   "metadata": {
    "id": "P3P18J0N22hv"
   },
   "outputs": [],
   "source": [
    "from transformers import AutoTokenizer, AutoModelForSequenceClassification # rodar\n",
    "from torch.nn.functional import softmax\n",
    "  \n",
    "tokenizer = AutoTokenizer.from_pretrained(\"nlptown/bert-base-multilingual-uncased-sentiment\")\n",
    "\n",
    "model_ = AutoModelForSequenceClassification.from_pretrained(\"nlptown/bert-base-multilingual-uncased-sentiment\")\n",
    "\n",
    "def map_values(value, min = 1, max = 5, feature_range = (-1, 1)):\n",
    "\n",
    "  # Map to feature range\n",
    "    mapped = (((value - min) * (feature_range[1] - feature_range[0])) / (max - min)) + feature_range[0]\n",
    "\n",
    "    return mapped\n",
    "\n",
    "def predict_polarity(sentence, model_, tokenizer):\n",
    "    # Generate tokens\n",
    "    \n",
    "    tokens = tokenizer.encode(sentence, return_tensors='pt', truncation=True)\n",
    "\n",
    "  # Predict logits and probability\n",
    "    logits = model_(tokens)[0][0]\n",
    "    probas = softmax(logits, dim=0).detach().numpy()\n",
    "\n",
    "  # Calculate center of mass (1*p1 + ... + 5*p5)/sum(p)\n",
    "    center_of_mass = np.average(np.arange(1, len(probas)+1), weights = probas)\n",
    "\n",
    "  # Map value to (-1, 1)\n",
    "    return map_values(center_of_mass)"
   ]
  },
  {
   "cell_type": "code",
   "execution_count": null,
   "id": "5fc860db",
   "metadata": {
    "id": "5fc860db"
   },
   "outputs": [],
   "source": [
    "polarity = []\n",
    "\n",
    "for frase in frases_audio['Frases']:\n",
    "    polarity.append(predict_polarity(frase, model_, tokenizer))"
   ]
  },
  {
   "cell_type": "code",
   "execution_count": null,
   "id": "24c8c2f3",
   "metadata": {
    "id": "24c8c2f3"
   },
   "outputs": [],
   "source": [
    "frases_audio['Sentimento_bert'] = polarity"
   ]
  },
  {
   "cell_type": "code",
   "execution_count": null,
   "id": "2b72c329",
   "metadata": {
    "id": "2b72c329"
   },
   "outputs": [],
   "source": [
    "frases_audio = frases_audio.drop(columns=['Unnamed: 0'])"
   ]
  },
  {
   "cell_type": "code",
   "execution_count": null,
   "id": "5fac2636",
   "metadata": {
    "id": "5fac2636"
   },
   "outputs": [],
   "source": [
    "tempo_init = 0\n",
    "frases_audio['Tempo'] = [(tempo_init + (i*30000))/60000 for i in range(len(partes_audio))]"
   ]
  },
  {
   "cell_type": "code",
   "execution_count": null,
   "id": "62a215c9",
   "metadata": {
    "id": "62a215c9"
   },
   "outputs": [],
   "source": [
    "frases_audio"
   ]
  },
  {
   "cell_type": "code",
   "execution_count": null,
   "id": "70bcd972",
   "metadata": {
    "id": "70bcd972"
   },
   "outputs": [],
   "source": [
    "%matplotlib inline"
   ]
  },
  {
   "cell_type": "code",
   "execution_count": null,
   "id": "a7c6dd58",
   "metadata": {
    "id": "a7c6dd58"
   },
   "outputs": [],
   "source": [
    "x = []\n",
    "y = []\n",
    "\n",
    "tempos = frases_audio['Tempo'].values\n",
    "sentimento = frases_audio['Sentimento_treinado'].values\n",
    "\n",
    "for i in range(len(tempos)):\n",
    "    x.append(tempos[i])\n",
    "    y.append(sentimento[i])\n",
    "    \n",
    "    plt.figure(figsize=(10,4))\n",
    "    plt.title('Sentimento ao longo do tempo')\n",
    "    plt.grid()\n",
    "    plt.xlim(0, tempos[-1])\n",
    "    plt.ylim(-1, 1)\n",
    "    \n",
    "    plt.plot(x, y, f'-{\"r\" if y[i] <= 0 else \"b\"}o')\n",
    "    plt.pause(0.5)\n",
    "#     plt.pause(30000/1000)\n",
    "    clear_output(wait = True)\n",
    "\n"
   ]
  },
  {
   "cell_type": "code",
   "execution_count": null,
   "id": "e5c507b5",
   "metadata": {
    "id": "e5c507b5",
    "scrolled": true
   },
   "outputs": [],
   "source": [
    "HTML('<iframe id=\"ytplayer\" type=\"text/html\" width=\"600\" height=\"400\" \\ src=\"https://www.youtube.com/embed/XFsF-BTb24g\" frameborder=\"2\"/>')"
   ]
  },
  {
   "cell_type": "markdown",
   "id": "533582fe",
   "metadata": {
    "id": "533582fe"
   },
   "source": [
    "### Gradio"
   ]
  },
  {
   "cell_type": "code",
   "execution_count": 15,
   "id": "RMJJe1FvlQGC",
   "metadata": {
    "id": "RMJJe1FvlQGC"
   },
   "outputs": [],
   "source": [
    "# !pip install gradio"
   ]
  },
  {
   "cell_type": "markdown",
   "id": "fa7c0ee6",
   "metadata": {},
   "source": [
    "Link de exemplo de vídeo: https://www.youtube.com/watch?v=uPeBB3KoIu0"
   ]
  },
  {
   "cell_type": "code",
   "execution_count": 15,
   "id": "50580a89",
   "metadata": {
    "colab": {
     "base_uri": "https://localhost:8080/",
     "height": 1000
    },
    "id": "50580a89",
    "outputId": "f30964b8-23d9-418f-b068-8beb1d3af9bc"
   },
   "outputs": [
    {
     "name": "stdout",
     "output_type": "stream",
     "text": [
      "Running on local URL:  http://127.0.0.1:7860\n",
      "Running on public URL: https://10a4a7d21fc6eb35.gradio.app\n",
      "\n",
      "This share link expires in 72 hours. For free permanent hosting and GPU upgrades (NEW!), check out Spaces: https://huggingface.co/spaces\n"
     ]
    },
    {
     "data": {
      "text/html": [
       "<div><iframe src=\"https://10a4a7d21fc6eb35.gradio.app\" width=\"100%\" height=\"500\" allow=\"autoplay; camera; microphone; clipboard-read; clipboard-write;\" frameborder=\"0\" allowfullscreen></iframe></div>"
      ],
      "text/plain": [
       "<IPython.core.display.HTML object>"
      ]
     },
     "metadata": {},
     "output_type": "display_data"
    },
    {
     "data": {
      "text/plain": []
     },
     "execution_count": 15,
     "metadata": {},
     "output_type": "execute_result"
    },
    {
     "name": "stdout",
     "output_type": "stream",
     "text": [
      "MoviePy - Writing audio in ./audio/É o FIM do BATMAN ARKHAM.mp3\n"
     ]
    },
    {
     "name": "stderr",
     "output_type": "stream",
     "text": [
      "                                                                                                                       \r"
     ]
    },
    {
     "name": "stdout",
     "output_type": "stream",
     "text": [
      "MoviePy - Done.\n",
      "result2:\n",
      "{   'alternative': [   {   'confidence': 0.91770357,\n",
      "                           'transcript': 'desde 2015 com final do Batman '\n",
      "                                         'Arkham Knight nunca mais tivemos o '\n",
      "                                         'jogo próprio do homem morcego isso '\n",
      "                                         'de certa forma é preocupante para os '\n",
      "                                         'fãs de Batman Mas será que a gente '\n",
      "                                         'vai ter um novo jogo do Batman no '\n",
      "                                         'futuro não querendo dar spoiler '\n",
      "                                         'daqui mas afinal do Bat marca não '\n",
      "                                         'terminou de uma forma definitiva + 5 '\n",
      "                                         'e aberto Ou seja terá margem para '\n",
      "                                         'rock Terry continuar a Frankie arca '\n",
      "                                         'sem precisar inventar em uma Disputa '\n",
      "                                         'Maluca agora a rockstar que era '\n",
      "                                         'responsável pela franquia Batman '\n",
      "                                         'Arkham está produzindo'},\n",
      "                       {   'transcript': 'desde 2015 com final do Batman '\n",
      "                                         'Arkham Knight nunca mais tivemos o '\n",
      "                                         'jogo próprio do homem morcego isso '\n",
      "                                         'de certa forma é preocupante para os '\n",
      "                                         'fãs de Batman Mas será que a gente '\n",
      "                                         'vai ter um novo jogo do Batman no '\n",
      "                                         'futuro não querendo dar spoiler '\n",
      "                                         'daqui mas afinal do Bate marca não '\n",
      "                                         'terminou de uma forma definitiva + 5 '\n",
      "                                         'e aberto Ou seja terá margem para '\n",
      "                                         'rock Terry continuar a Frankie arca '\n",
      "                                         'sem precisar inventar em uma Disputa '\n",
      "                                         'Maluca agora a rockstar que era '\n",
      "                                         'responsável pela franquia Batman '\n",
      "                                         'Arkham está produzindo'},\n",
      "                       {   'transcript': 'desde 2015 com final do Batman '\n",
      "                                         'Arkham night nunca mais tivemos o '\n",
      "                                         'jogo próprio do homem morcego isso '\n",
      "                                         'de certa forma é preocupante para os '\n",
      "                                         'fãs de Batman Mas será que a gente '\n",
      "                                         'vai ter um novo jogo do Batman no '\n",
      "                                         'futuro não querendo dar spoiler '\n",
      "                                         'daqui mas afinal do Bat marca não '\n",
      "                                         'terminou de uma forma definitiva + 5 '\n",
      "                                         'e aberto Ou seja terá margem para '\n",
      "                                         'rock Terry continuar a Frankie arca '\n",
      "                                         'sem precisar inventar em uma Disputa '\n",
      "                                         'Maluca agora a rockstar que era '\n",
      "                                         'responsável pela franquia Batman '\n",
      "                                         'Arkham está produzindo'},\n",
      "                       {   'transcript': 'desde 2015 com final do Batman '\n",
      "                                         'Arkham Knight nunca mais tivemos o '\n",
      "                                         'jogo próprio do homem morcego isso '\n",
      "                                         'de certa forma é preocupante para os '\n",
      "                                         'fãs de Batman Mas será que a gente '\n",
      "                                         'vai ter o novo jogo do Batman no '\n",
      "                                         'futuro não querendo dar spoiler '\n",
      "                                         'daqui mas afinal do Bat marca não '\n",
      "                                         'terminou de uma forma definitiva + 5 '\n",
      "                                         'e aberto Ou seja terá margem para '\n",
      "                                         'rock Terry continuar a Frankie arca '\n",
      "                                         'sem precisar inventar em uma Disputa '\n",
      "                                         'Maluca agora a rockstar que era '\n",
      "                                         'responsável pela franquia Batman '\n",
      "                                         'Arkham está produzindo'},\n",
      "                       {   'transcript': 'desde 2015 com final do Batman '\n",
      "                                         'Arkham Knight nunca mais tivemos o '\n",
      "                                         'jogo próprio do homem morcego isso '\n",
      "                                         'de certa forma é preocupante para os '\n",
      "                                         'fãs de Batman Mas será que a gente '\n",
      "                                         'vai ter um novo jogo do Batman no '\n",
      "                                         'futuro não querendo dar spoiler '\n",
      "                                         'daqui mas afinal do Bat marca não '\n",
      "                                         'terminou de uma forma definitiva + 5 '\n",
      "                                         'e aberto Ou seja terá margem para '\n",
      "                                         'rock Terry Continuará Frank arca sem '\n",
      "                                         'precisar inventar em uma Disputa '\n",
      "                                         'Maluca agora a rockstar que era '\n",
      "                                         'responsável pela franquia Batman '\n",
      "                                         'Arkham está produzindo'}],\n",
      "    'final': True}\n",
      "result2:\n",
      "{   'alternative': [   {   'confidence': 0.93295747,\n",
      "                           'transcript': 'jogo do Esquadrão Suicida e isso me '\n",
      "                                         'preocupa um pouco porque a gente '\n",
      "                                         'sabe do grande potencial de criar '\n",
      "                                         'games caractere tem e sem discutível '\n",
      "                                         'a franquear cantar mas se o jogo do '\n",
      "                                         'Sport de um forno sucesso e sua '\n",
      "                                         'Abrir margem para uma continuação '\n",
      "                                         'dessa franquia isso iria deixar a '\n",
      "                                         'frente arca ainda mais escanteio '\n",
      "                                         'como ela também se encontra então '\n",
      "                                         'você pode até lembrar que já teve um '\n",
      "                                         'barco bate marca sem ter sido '\n",
      "                                         'desenvolvido pela Rockstar que o '\n",
      "                                         'Batman Arkham Origins que foi '\n",
      "                                         'desenvolvido pela'},\n",
      "                       {   'transcript': 'jogo do Esquadrão Suicida e isso me '\n",
      "                                         'preocupa um pouco porque a gente '\n",
      "                                         'sabe do grande potencial de criar '\n",
      "                                         'games caractere tem e sem discutível '\n",
      "                                         'a franquear cantar mas se o jogo do '\n",
      "                                         'Sport de um foram sucesso e sua '\n",
      "                                         'Abrir margem para uma continuação '\n",
      "                                         'dessa franquia isso iria deixar a '\n",
      "                                         'frente arca ainda mais escanteio '\n",
      "                                         'como ela também se encontra então '\n",
      "                                         'você pode até lembrar que já teve um '\n",
      "                                         'barco bate marca sem ter sido '\n",
      "                                         'desenvolvido pela Rockstar que o '\n",
      "                                         'Batman Arkham Origins que foi '\n",
      "                                         'desenvolvido pela'},\n",
      "                       {   'transcript': 'jogo do Esquadrão Suicida e isso me '\n",
      "                                         'preocupa um pouco porque a gente '\n",
      "                                         'sabe do grande potencial de criar '\n",
      "                                         'games caractere tem e sem discutível '\n",
      "                                         'a franquear cantar mas se o jogo do '\n",
      "                                         'Sport de um forno sucesso e sua '\n",
      "                                         'Abrir margem para uma continuação '\n",
      "                                         'dessa franquia isso iria deixar a '\n",
      "                                         'frente arca ainda mais escanteio '\n",
      "                                         'como ela atualmente se encontra '\n",
      "                                         'então você pode até lembrar que já '\n",
      "                                         'teve um barco bate marca sem ter '\n",
      "                                         'sido desenvolvido pela Rockstar que '\n",
      "                                         'o Batman Arkham Origins que foi '\n",
      "                                         'desenvolvido pela'},\n",
      "                       {   'transcript': 'jogo do Esquadrão Suicida e isso me '\n",
      "                                         'preocupa um pouco porque a gente '\n",
      "                                         'sabe do grande potencial de criar '\n",
      "                                         'games caractere tem e sem discutível '\n",
      "                                         'a franquear cantar mas se o jogo do '\n",
      "                                         'Sport de um forno sucesso e sua '\n",
      "                                         'Abrir margem para uma continuação '\n",
      "                                         'dessa franquia isso iria deixar a '\n",
      "                                         'frente arca ainda mais escanteio '\n",
      "                                         'como ela também se encontra então '\n",
      "                                         'você pode até lembrar que já teve um '\n",
      "                                         'barco bate marca sem ter sido '\n",
      "                                         'desenvolvido pela Rockstar que é o '\n",
      "                                         'Batman Arkham Origins que foi '\n",
      "                                         'desenvolvido pela'},\n",
      "                       {   'transcript': 'jogo do Esquadrão Suicida e isso me '\n",
      "                                         'preocupa um pouco porque a gente '\n",
      "                                         'sabe do grande potencial de criar '\n",
      "                                         'games caractere tem e sem discutível '\n",
      "                                         'a franquear cantar mas se o jogo do '\n",
      "                                         'Sport de um foram sucesso e sua '\n",
      "                                         'Abrir margem para uma continuação '\n",
      "                                         'dessa franquia isso iria deixar a '\n",
      "                                         'frente arca ainda mais escanteio '\n",
      "                                         'como ela atualmente se encontra '\n",
      "                                         'então você pode até lembrar que já '\n",
      "                                         'teve um barco bate marca sem ter '\n",
      "                                         'sido desenvolvido pela Rockstar que '\n",
      "                                         'o Batman Arkham Origins que foi '\n",
      "                                         'desenvolvido pela'}],\n",
      "    'final': True}\n"
     ]
    },
    {
     "name": "stdout",
     "output_type": "stream",
     "text": [
      "result2:\n",
      "{   'alternative': [   {   'confidence': 0.93103141,\n",
      "                           'transcript': 'aí vem aqui então apesar do origem '\n",
      "                                         'ter sido um bom jogo na minha '\n",
      "                                         'opinião de gente que não gostou Mas '\n",
      "                                         'eu particularmente gostei o último '\n",
      "                                         'game lançado pela Warner Warner Bros '\n",
      "                                         'foi agora night esse jogo aí City '\n",
      "                                         'jogo não curte de forma alguma não '\n",
      "                                         'me agradou Então para mim é muito '\n",
      "                                         'arriscado pois o futuro da Frankie '\n",
      "                                         'arca na mão de outra empresa '\n",
      "                                         'anunciar bactéria Porque '\n",
      "                                         'infelizmente é aqui falando até pela '\n",
      "                                         'Warner Bros último games dele dele '\n",
      "                                         'né na verdade'},\n",
      "                       {   'transcript': 'aí vem aqui então apesar do origem '\n",
      "                                         'ter sido um bom jogo na minha '\n",
      "                                         'opinião de gente que não gostou Mas '\n",
      "                                         'eu particularmente gostei o último '\n",
      "                                         'game lançado pela Warner Warner Bros '\n",
      "                                         'foi agora night esse jogo aí City '\n",
      "                                         'jogo não curte de forma alguma não '\n",
      "                                         'me agradou Então para mim é muito '\n",
      "                                         'arriscado pois o futuro da franky '\n",
      "                                         'arca na mão de outra empresa '\n",
      "                                         'anunciar bactéria Porque '\n",
      "                                         'infelizmente é aqui falando até pela '\n",
      "                                         'Warner Bros último games dele dele '\n",
      "                                         'né na verdade'},\n",
      "                       {   'transcript': 'aí vem aqui então apesar do origem '\n",
      "                                         'ter sido um bom jogo na minha '\n",
      "                                         'opinião de gente que não gostou Mas '\n",
      "                                         'eu particularmente gostei o último '\n",
      "                                         'game lançado pela Warner Warner Bros '\n",
      "                                         'foi agora night esse jogo aí City '\n",
      "                                         'jogo não curte de forma alguma não '\n",
      "                                         'me agradou Então para mim é muito '\n",
      "                                         'arriscado pois o futuro da Frankie '\n",
      "                                         'arca na mão de outra empresa '\n",
      "                                         'anunciar bactéria Porque '\n",
      "                                         'infelizmente é aqui falando até pela '\n",
      "                                         'Warner Bros último games dele dele '\n",
      "                                         'na verdade'},\n",
      "                       {   'transcript': 'aí vem aqui então apesar do origem '\n",
      "                                         'ter sido um bom jogo na minha '\n",
      "                                         'opinião de gente que não gostou Mas '\n",
      "                                         'eu particularmente gostei o último '\n",
      "                                         'game lançado pela Warner Warner Bros '\n",
      "                                         'foi agora night esse jogo aí City '\n",
      "                                         'jogo não curte de forma alguma não '\n",
      "                                         'me agradou Então para mim é muito '\n",
      "                                         'arriscado pois o futuro da franky '\n",
      "                                         'arca na mão de outra empresa '\n",
      "                                         'anunciar bactéria Porque '\n",
      "                                         'infelizmente é aqui falando até pela '\n",
      "                                         'Warner Bros último games dele dele '\n",
      "                                         'na verdade'},\n",
      "                       {   'transcript': 'aí vem aqui estão apesar do origem '\n",
      "                                         'ter sido um bom jogo na minha '\n",
      "                                         'opinião de gente que não gostou Mas '\n",
      "                                         'eu particularmente gostei o último '\n",
      "                                         'game lançado pela Warner Warner Bros '\n",
      "                                         'foi agora night esse jogo aí City '\n",
      "                                         'jogo não curte de forma alguma não '\n",
      "                                         'me agradou Então para mim é muito '\n",
      "                                         'arriscado pois o futuro da Frankie '\n",
      "                                         'arca na mão de outra empresa '\n",
      "                                         'anunciar bactéria Porque '\n",
      "                                         'infelizmente é aqui falando até pela '\n",
      "                                         'Warner Bros último games dele dele '\n",
      "                                         'né na verdade'}],\n",
      "    'final': True}\n",
      "result2:\n",
      "{   'alternative': [   {   'confidence': 0.92193717,\n",
      "                           'transcript': 'não foi o nível que a gente esperava '\n",
      "                                         'agora voltando ao porque do Batman '\n",
      "                                         'estar tão esquecido assim Qual a '\n",
      "                                         'dificuldade de ser um jogo do Batman '\n",
      "                                         'é aí que eu tenho uma teoria a '\n",
      "                                         'bactéria e simples se importou em '\n",
      "                                         'trazer novidades em cada novo jogo '\n",
      "                                         'do Batman desde o Batman Arkham '\n",
      "                                         'Asylum uma histórico bate no vadores '\n",
      "                                         'Arkham City como ambientação em '\n",
      "                                         'forma reformulados e arknights '\n",
      "                                         'condição do Batmóvel e outros '\n",
      "                                         'estilos de missão de certa forma foi '\n",
      "                                         'uma'},\n",
      "                       {   'transcript': 'não foi o nível que a gente esperava '\n",
      "                                         'agora voltando ao porque do Batman '\n",
      "                                         'estar tão esquecido assim Qual a '\n",
      "                                         'dificuldade de ser um jogo do Batman '\n",
      "                                         'é aí que eu tenho uma teoria a '\n",
      "                                         'bactéria e simples se importou em '\n",
      "                                         'trazer novidades em cada novo jogo '\n",
      "                                         'do Batman desde o Batman Arkham '\n",
      "                                         'Asylum uma histórico bate no vadores '\n",
      "                                         'Arkham City como ambientação e '\n",
      "                                         'reformulados e arknights condição do '\n",
      "                                         'Batmóvel e outros estilos de missão '\n",
      "                                         'de certa forma foi uma'},\n",
      "                       {   'transcript': 'não foi o nível que a gente esperava '\n",
      "                                         'agora voltando ao porque do Batman '\n",
      "                                         'estar tão esquecido assim Qual a '\n",
      "                                         'dificuldade de ser um jogo do Batman '\n",
      "                                         'é aí que eu tenho uma teoria a '\n",
      "                                         'bactéria e simples se importou em '\n",
      "                                         'trazer novidades em cada novo jogo '\n",
      "                                         'do Batman desde o Batman Arkham '\n",
      "                                         'Asylum uma histórico bate no vadores '\n",
      "                                         'Arkham City como ambientação em '\n",
      "                                         'forma reformulados e arknights '\n",
      "                                         'condição do Batmóvel e outros '\n",
      "                                         'estilos de missão de certa forma foi '\n",
      "                                         'o'},\n",
      "                       {   'transcript': 'não foi o nível que a gente esperava '\n",
      "                                         'agora voltando ao porque do Batman '\n",
      "                                         'estar tão esquecido assim Qual a '\n",
      "                                         'dificuldade de ser um jogo do Batman '\n",
      "                                         'é aí que eu tenho uma teoria a '\n",
      "                                         'bactéria e simples se importou em '\n",
      "                                         'trazer novidades em cada novo jogo '\n",
      "                                         'do Batman desde o Batman Arkham '\n",
      "                                         'Asylum uma histórico bate no vadores '\n",
      "                                         'Arkham City como ambientação e '\n",
      "                                         'reformulados e arknights condição do '\n",
      "                                         'Batmóvel e outros estilos de missão '\n",
      "                                         'de certa forma foi o'},\n",
      "                       {   'transcript': 'não foi o nível que a gente esperava '\n",
      "                                         'agora voltando ao porque do Batman '\n",
      "                                         'estar tão esquecido assim Qual a '\n",
      "                                         'dificuldade de ser um jogo do Batman '\n",
      "                                         'é aí que eu tenho uma teoria a '\n",
      "                                         'bactéria e simples importou em '\n",
      "                                         'trazer novidades em cada novo jogo '\n",
      "                                         'do Batman desde o Batman Arkham '\n",
      "                                         'Asylum uma histórico bate no vadores '\n",
      "                                         'Arkham City como ambientação em '\n",
      "                                         'forma reformulados e arknights '\n",
      "                                         'condição do Batmóvel e outros '\n",
      "                                         'estilos de missão de certa forma foi '\n",
      "                                         'uma'}],\n",
      "    'final': True}\n"
     ]
    },
    {
     "name": "stdout",
     "output_type": "stream",
     "text": [
      "result2:\n",
      "{   'alternative': [   {   'confidence': 0.93498647,\n",
      "                           'transcript': 'são Nesse contexto mas agora com cor '\n",
      "                                         'com quatro jogo do Batman Será que '\n",
      "                                         'não chegaria no nível de saturação '\n",
      "                                         'de repetição grande daí que faz '\n",
      "                                         'imaginar uma continuação assim no '\n",
      "                                         'ano seguinte ou depois de dois anos '\n",
      "                                         'eu posso ficar aqui algum exemplo de '\n",
      "                                         'game que tem um furo no passado e '\n",
      "                                         'agora quero uma reflexão para a '\n",
      "                                         'maior parte dos jogadores que a '\n",
      "                                         'franquia Far Cry então Na minha '\n",
      "                                         'opinião eu percebi que a bactéria e '\n",
      "                                         'já sentiu essa dificuldade em manter '\n",
      "                                         'o mesmo nível dos jogos Arsenal e '\n",
      "                                         'decidiu mudar os ares'},\n",
      "                       {   'transcript': 'são Nesse contexto mas agora com cor '\n",
      "                                         'com quatro jogo do Batman Será que '\n",
      "                                         'não chegaria no nível de saturação '\n",
      "                                         'de repetição grande daí que faz '\n",
      "                                         'imaginar uma continuação assim no '\n",
      "                                         'ano seguinte ou depois de dois anos '\n",
      "                                         'eu posso ficar aqui algum exemplo de '\n",
      "                                         'game que tem um furo no passado e '\n",
      "                                         'agora quero uma reflexão para a '\n",
      "                                         'maior parte dos jogadores que a '\n",
      "                                         'franquia Far Cry então Na minha '\n",
      "                                         'opinião eu percebi que a bactéria e '\n",
      "                                         'já sentiu essa dificuldade em manter '\n",
      "                                         'o mesmo nível dos jogos arca e '\n",
      "                                         'decidiu mudar os ares'},\n",
      "                       {   'transcript': 'são Nesse contexto mas agora com cor '\n",
      "                                         'com quatro jogo do Batman Será que '\n",
      "                                         'não chegaria no nível de saturação '\n",
      "                                         'de repetição grande daí que você '\n",
      "                                         'imaginar uma continuação assim no '\n",
      "                                         'ano seguinte ou depois de dois anos '\n",
      "                                         'eu posso ficar aqui algum exemplo de '\n",
      "                                         'game que tem um furo no passado e '\n",
      "                                         'agora quero uma reflexão para a '\n",
      "                                         'maior parte dos jogadores que a '\n",
      "                                         'franquia Far Cry então Na minha '\n",
      "                                         'opinião eu percebi que a bactéria e '\n",
      "                                         'já sentiu essa dificuldade em manter '\n",
      "                                         'o mesmo nível dos jogos Arsenal e '\n",
      "                                         'decidiu mudar os ares'},\n",
      "                       {   'transcript': 'são Nesse contexto mas agora com cor '\n",
      "                                         'com quatro jogo do Batman Será que '\n",
      "                                         'não chegaria no nível de saturação '\n",
      "                                         'de repetição grande daí que você '\n",
      "                                         'imaginar uma continuação assim no '\n",
      "                                         'ano seguinte ou depois de dois anos '\n",
      "                                         'eu posso ficar aqui algum exemplo de '\n",
      "                                         'game que tem um furo no passado e '\n",
      "                                         'agora quero uma reflexão para a '\n",
      "                                         'maior parte dos jogadores que a '\n",
      "                                         'franquia Far Cry então Na minha '\n",
      "                                         'opinião eu percebi que a bactéria e '\n",
      "                                         'já sentiu essa dificuldade em manter '\n",
      "                                         'o mesmo nível dos jogos arca e '\n",
      "                                         'decidiu mudar os ares'},\n",
      "                       {   'transcript': 'são Nesse contexto mas agora com cor '\n",
      "                                         'com quatro jogo do Batman Será que '\n",
      "                                         'não chegaria no nível de saturação '\n",
      "                                         'de repetição grande daí que faz '\n",
      "                                         'imaginar uma continuação assim no '\n",
      "                                         'ano seguinte ou depois de dois anos '\n",
      "                                         'eu posso ficar aqui algum exemplo de '\n",
      "                                         'game que tem um forno passado e '\n",
      "                                         'agora quero uma reflexão para a '\n",
      "                                         'maior parte dos jogadores que a '\n",
      "                                         'franquia Far Cry então Na minha '\n",
      "                                         'opinião eu percebi que a bactéria e '\n",
      "                                         'já sentiu essa dificuldade em manter '\n",
      "                                         'o mesmo nível dos jogos Arsenal e '\n",
      "                                         'decidiu mudar os ares'}],\n",
      "    'final': True}\n",
      "result2:\n",
      "{   'alternative': [   {   'confidence': 0.9128437,\n",
      "                           'transcript': 'Eu também da DC mas eu acho que bate '\n",
      "                                         'marca ainda vai voltar com comando '\n",
      "                                         'da artéria porém vai demorar '\n",
      "                                         'bastante a gente não sabe Quando '\n",
      "                                         'orei eu na minha visão eu acredito '\n",
      "                                         'que vai voltar um dia e você acha '\n",
      "                                         'que Batman vai voltar a gente aqui '\n",
      "                                         'embaixo e se gostou escreva-se no '\n",
      "                                         'canal obrigado para assistir e fique '\n",
      "                                         'com Deus'},\n",
      "                       {   'transcript': 'Eu também da DC mas eu acho que bate '\n",
      "                                         'marca ainda vai voltar com comando '\n",
      "                                         'da artéria porém vai demorar '\n",
      "                                         'bastante a gente não sabe Quando '\n",
      "                                         'orei eu na minha visão não acredito '\n",
      "                                         'que vai voltar um dia e você acha '\n",
      "                                         'que Batman vai voltar a gente aqui '\n",
      "                                         'embaixo e se gostou escreva-se no '\n",
      "                                         'canal obrigado para assistir e fique '\n",
      "                                         'com Deus'},\n",
      "                       {   'transcript': 'Eu também da DC mas eu acho que bate '\n",
      "                                         'marca ainda vai voltar com comando '\n",
      "                                         'da artéria porém vai demorar '\n",
      "                                         'bastante a gente não sabe Quando '\n",
      "                                         'orei eu na minha visão eu acredito '\n",
      "                                         'que vai voltar um dia e você acha '\n",
      "                                         'que Batman vai voltar 20 aqui '\n",
      "                                         'embaixo e se gostou escreva-se no '\n",
      "                                         'canal obrigado para assistir e fique '\n",
      "                                         'com Deus'},\n",
      "                       {   'transcript': 'Eu também da DC mas eu acho que bate '\n",
      "                                         'marca ainda vai voltar com comando '\n",
      "                                         'da artéria porém vai demorar '\n",
      "                                         'bastante a gente não sabe Quando '\n",
      "                                         'orei eu na minha visão não acredito '\n",
      "                                         'que vai voltar um dia e você acha '\n",
      "                                         'que Batman vai voltar 20 aqui '\n",
      "                                         'embaixo e se gostou escreva-se no '\n",
      "                                         'canal obrigado para assistir e fique '\n",
      "                                         'com Deus'},\n",
      "                       {   'transcript': 'Eu também dá de ser mas eu acho que '\n",
      "                                         'bate marca ainda vai voltar com '\n",
      "                                         'comando da artéria porém vai demorar '\n",
      "                                         'bastante a gente não sabe Quando '\n",
      "                                         'orei eu na minha visão eu acredito '\n",
      "                                         'que vai voltar um dia e você acha '\n",
      "                                         'que Batman vai voltar a gente aqui '\n",
      "                                         'embaixo e se gostou escreva-se no '\n",
      "                                         'canal obrigado para assistir e fique '\n",
      "                                         'com Deus'}],\n",
      "    'final': True}\n"
     ]
    }
   ],
   "source": [
    "import gradio as gr\n",
    "\n",
    "def read_input(link): # rodar\n",
    "    \n",
    "    path = './audio/'\n",
    "    name_video = download_audio(link, path)\n",
    "    path_name = path + name_video\n",
    "    \n",
    "    tam = 30000\n",
    "    partes_audio = convert_and_divide(path_name, gradio=True, tam=tam)\n",
    "    \n",
    "    frases = []\n",
    "    \n",
    "    for parte in partes_audio:\n",
    "        transcrito = transcreve_audio(parte)\n",
    "        frases.append(transcrito)\n",
    "    \n",
    "    frases_audio = pd.DataFrame(data={'Frases':frases})\n",
    "    frases_audio['Frases'] = frases_audio['Frases'].apply(lambda x: get_only_chars(x))\n",
    "    frases_audio['Frases'] = frases_audio['Frases'].apply(lambda x: \" \".join([y for y in x.split() if y not in stop_words]  ))\n",
    "    \n",
    "    df = pd.DataFrame(columns=[\"Text\",\"Sentimento_modelo_keras\", \"Sentimento_modelo_bert\", \"Time\"])\n",
    "    \n",
    "    tempo_init = 0\n",
    "    \n",
    "    y_pred_keras = loaded_model.predict(frases_audio['Frases'])\n",
    "    y_pred_keras = np.where(y_pred_keras >= 0.5, 1, 0)\n",
    "    \n",
    "    for i in range(len(y_pred_keras)):\n",
    "        frase = frases_audio['Frases'].iloc[i]\n",
    "        \n",
    "        y_pred_bert = predict_polarity(frase, model_, tokenizer)\n",
    "        df.loc[len(df)] = [frase, str(y_pred_keras[i][0]), str(y_pred_bert), (tempo_init + (i*tam))/60000]\n",
    "    \n",
    "    \n",
    "    tempos = df['Time'].values\n",
    "    sentimento = df['Sentimento_modelo_keras'].values\n",
    "    \n",
    "    fig = plt.figure()\n",
    "    ax = fig.add_subplot(111)\n",
    "    \n",
    "    ax.grid()\n",
    "    ax.plot(tempos, sentimento, '-bo')  \n",
    "    \n",
    "      \n",
    "     \n",
    "    return {output_Dataframe : df , output_plot : fig}\n",
    "\n",
    "\n",
    "with gr.Blocks() as demo:\n",
    "    with gr.Tab(\"Link do Vídeo\"):\n",
    "        with gr.Row():\n",
    "            with gr.Column(min_width=\"400\"):\n",
    "            \n",
    "                link = gr.Textbox(label=\"Digite o link\")\n",
    "                download = gr.Button(\"Enviar\")\n",
    "                        \n",
    "              \n",
    "    with gr.Tab(\"Resultados\"):\n",
    "        with gr.Row():\n",
    "            with gr.Column(min_width=\"400\"):\n",
    "                \n",
    "                output_Dataframe = gr.Dataframe(\n",
    "                    headers=[\"Text\",\"Sentimento_modelo_keras\", \"Sentimento_modelo_bert\",\"Time\"],\n",
    "                    datatype=[\"str\",\"str\", \"str\",\"str\"]\n",
    "                    )\n",
    "                \n",
    "                output_plot = gr.Plot(label='Plot')\n",
    "                         \n",
    "    download.click(read_input, [link], [output_plot, output_Dataframe])  \n",
    "    \n",
    "demo.launch(share=True)"
   ]
  },
  {
   "cell_type": "code",
   "execution_count": null,
   "id": "d17eafa7",
   "metadata": {
    "id": "d17eafa7"
   },
   "outputs": [],
   "source": []
  }
 ],
 "metadata": {
  "colab": {
   "provenance": []
  },
  "kernelspec": {
   "display_name": "Python 3 (ipykernel)",
   "language": "python",
   "name": "python3"
  },
  "language_info": {
   "codemirror_mode": {
    "name": "ipython",
    "version": 3
   },
   "file_extension": ".py",
   "mimetype": "text/x-python",
   "name": "python",
   "nbconvert_exporter": "python",
   "pygments_lexer": "ipython3",
   "version": "3.9.7"
  }
 },
 "nbformat": 4,
 "nbformat_minor": 5
}
